{
 "cells": [
  {
   "cell_type": "markdown",
   "id": "71f72bc4",
   "metadata": {},
   "source": [
    "## Gradio"
   ]
  },
  {
   "cell_type": "code",
   "execution_count": 6,
   "id": "5ab32df7",
   "metadata": {
    "ExecuteTime": {
     "end_time": "2023-08-11T20:16:19.450781Z",
     "start_time": "2023-08-11T20:16:19.439043Z"
    }
   },
   "outputs": [],
   "source": [
    "import pandas as pd\n",
    "import gradio as gr\n",
    "from gradio.components import Dropdown, Textbox"
   ]
  },
  {
   "cell_type": "code",
   "execution_count": 27,
   "id": "895fc1eb",
   "metadata": {
    "ExecuteTime": {
     "end_time": "2023-08-11T20:40:53.510094Z",
     "start_time": "2023-08-11T20:40:53.390292Z"
    }
   },
   "outputs": [
    {
     "name": "stderr",
     "output_type": "stream",
     "text": [
      "C:\\Users\\F8011907\\AppData\\Local\\Temp\\ipykernel_22132\\1230330040.py:8: GradioDeprecationWarning: Usage of gradio.inputs is deprecated, and will not be supported in the future, please import your component from gradio.components\n",
      "  gr.inputs.Dropdown(choices=options_1),\n",
      "C:\\Users\\F8011907\\AppData\\Local\\Temp\\ipykernel_22132\\1230330040.py:8: GradioDeprecationWarning: `optional` parameter is deprecated, and it has no effect\n",
      "  gr.inputs.Dropdown(choices=options_1),\n",
      "C:\\Users\\F8011907\\AppData\\Local\\Temp\\ipykernel_22132\\1230330040.py:9: GradioDeprecationWarning: Usage of gradio.inputs is deprecated, and will not be supported in the future, please import your component from gradio.components\n",
      "  gr.inputs.Dropdown(choices=options_2)\n",
      "C:\\Users\\F8011907\\AppData\\Local\\Temp\\ipykernel_22132\\1230330040.py:9: GradioDeprecationWarning: `optional` parameter is deprecated, and it has no effect\n",
      "  gr.inputs.Dropdown(choices=options_2)\n",
      "C:\\Users\\F8011907\\AppData\\Local\\Temp\\ipykernel_22132\\1230330040.py:11: GradioDeprecationWarning: Usage of gradio.outputs is deprecated, and will not be supported in the future, please import your components from gradio.components\n",
      "  output = gr.outputs.Textbox()\n"
     ]
    },
    {
     "name": "stdout",
     "output_type": "stream",
     "text": [
      "Running on local URL:  http://127.0.0.1:7881\n",
      "\n",
      "To create a public link, set `share=True` in `launch()`.\n"
     ]
    },
    {
     "data": {
      "text/html": [
       "<div><iframe src=\"http://127.0.0.1:7881/\" width=\"100%\" height=\"500\" allow=\"autoplay; camera; microphone; clipboard-read; clipboard-write;\" frameborder=\"0\" allowfullscreen></iframe></div>"
      ],
      "text/plain": [
       "<IPython.core.display.HTML object>"
      ]
     },
     "metadata": {},
     "output_type": "display_data"
    },
    {
     "data": {
      "text/plain": []
     },
     "execution_count": 27,
     "metadata": {},
     "output_type": "execute_result"
    }
   ],
   "source": [
    "options_1 = ['Option 1', 'Option 2', 'Option 3']\n",
    "options_2 = {\n",
    "    'Option 1': ['Option 1.1', 'Option 1.2', 'Option 1.3'],\n",
    "    'Option 2': ['Option 2.1', 'Option 2.2', 'Option 2.3'],\n",
    "    'Option 3': ['Option 3.1', 'Option 3.2', 'Option 3.3'],\n",
    "}\n",
    "inputs = [\n",
    "    gr.inputs.Dropdown(choices=options_1),\n",
    "    gr.inputs.Dropdown(choices=options_2)\n",
    "]\n",
    "output = gr.outputs.Textbox()\n",
    "\n",
    "def filter_options(option_1, option_2):\n",
    "    return f\"You selected '{option_1}' in the first dropdown and '{option_2}' in the second dropdown.\"\n",
    "\n",
    "interface = gr.Interface(fn=filter_options, inputs=inputs, outputs=output, title=\"Dropdown Example\")\n",
    "interface.launch()"
   ]
  },
  {
   "cell_type": "code",
   "execution_count": 34,
   "id": "1ee67009",
   "metadata": {
    "ExecuteTime": {
     "end_time": "2023-08-11T21:05:32.452860Z",
     "start_time": "2023-08-11T21:05:32.300095Z"
    }
   },
   "outputs": [
    {
     "name": "stdout",
     "output_type": "stream",
     "text": [
      "Running on local URL:  http://127.0.0.1:7885\n",
      "\n",
      "To create a public link, set `share=True` in `launch()`.\n"
     ]
    },
    {
     "data": {
      "text/html": [
       "<div><iframe src=\"http://127.0.0.1:7885/\" width=\"100%\" height=\"500\" allow=\"autoplay; camera; microphone; clipboard-read; clipboard-write;\" frameborder=\"0\" allowfullscreen></iframe></div>"
      ],
      "text/plain": [
       "<IPython.core.display.HTML object>"
      ]
     },
     "metadata": {},
     "output_type": "display_data"
    },
    {
     "data": {
      "text/plain": []
     },
     "execution_count": 34,
     "metadata": {},
     "output_type": "execute_result"
    }
   ],
   "source": [
    "languages = ['spanish', 'english'] \n",
    "homeworks = {'spanish': ['hola', 'bien', 'gracias'], 'english': ['hello', 'good', 'thank you']}\n",
    "\n",
    "def rs_change(rs):\n",
    "    return gr.update(choices=homeworks[rs], value=None)\n",
    "\n",
    "with gr.Blocks() as app:\n",
    "\n",
    "    rs = gr.Dropdown(choices=languages, value='english')\n",
    "    rs_hw = gr.Dropdown(choices=homeworks['english'], interactive=True)\n",
    "\n",
    "    rs.change(fn=rs_change, inputs=[rs], outputs=[rs_hw])\n",
    "\n",
    "app.launch()"
   ]
  },
  {
   "cell_type": "code",
   "execution_count": null,
   "id": "8db4940b",
   "metadata": {},
   "outputs": [],
   "source": []
  }
 ],
 "metadata": {
  "kernelspec": {
   "display_name": "Python 3 (ipykernel)",
   "language": "python",
   "name": "python3"
  },
  "language_info": {
   "codemirror_mode": {
    "name": "ipython",
    "version": 3
   },
   "file_extension": ".py",
   "mimetype": "text/x-python",
   "name": "python",
   "nbconvert_exporter": "python",
   "pygments_lexer": "ipython3",
   "version": "3.10.9"
  },
  "toc": {
   "base_numbering": 1,
   "nav_menu": {},
   "number_sections": true,
   "sideBar": true,
   "skip_h1_title": false,
   "title_cell": "Table of Contents",
   "title_sidebar": "Contents",
   "toc_cell": false,
   "toc_position": {},
   "toc_section_display": true,
   "toc_window_display": false
  },
  "varInspector": {
   "cols": {
    "lenName": 16,
    "lenType": 16,
    "lenVar": 40
   },
   "kernels_config": {
    "python": {
     "delete_cmd_postfix": "",
     "delete_cmd_prefix": "del ",
     "library": "var_list.py",
     "varRefreshCmd": "print(var_dic_list())"
    },
    "r": {
     "delete_cmd_postfix": ") ",
     "delete_cmd_prefix": "rm(",
     "library": "var_list.r",
     "varRefreshCmd": "cat(var_dic_list()) "
    }
   },
   "types_to_exclude": [
    "module",
    "function",
    "builtin_function_or_method",
    "instance",
    "_Feature"
   ],
   "window_display": false
  }
 },
 "nbformat": 4,
 "nbformat_minor": 5
}
