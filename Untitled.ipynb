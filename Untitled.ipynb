{
 "cells": [
  {
   "cell_type": "code",
   "execution_count": 1,
   "id": "8401d09d",
   "metadata": {
    "ExecuteTime": {
     "end_time": "2023-08-01T20:05:23.581312Z",
     "start_time": "2023-08-01T20:05:11.272683Z"
    }
   },
   "outputs": [],
   "source": [
    "import pandas as pd"
   ]
  },
  {
   "cell_type": "code",
   "execution_count": 4,
   "id": "841f24c7",
   "metadata": {
    "ExecuteTime": {
     "end_time": "2023-08-01T20:07:59.904313Z",
     "start_time": "2023-08-01T20:07:50.910542Z"
    }
   },
   "outputs": [],
   "source": [
    "dataframe = pd.read_excel('database\\perfume_database.xlsx')"
   ]
  },
  {
   "cell_type": "code",
   "execution_count": 5,
   "id": "7d4621f7",
   "metadata": {
    "ExecuteTime": {
     "end_time": "2023-08-01T20:08:05.437274Z",
     "start_time": "2023-08-01T20:08:05.350649Z"
    }
   },
   "outputs": [
    {
     "data": {
      "text/html": [
       "<div>\n",
       "<style scoped>\n",
       "    .dataframe tbody tr th:only-of-type {\n",
       "        vertical-align: middle;\n",
       "    }\n",
       "\n",
       "    .dataframe tbody tr th {\n",
       "        vertical-align: top;\n",
       "    }\n",
       "\n",
       "    .dataframe thead th {\n",
       "        text-align: right;\n",
       "    }\n",
       "</style>\n",
       "<table border=\"1\" class=\"dataframe\">\n",
       "  <thead>\n",
       "    <tr style=\"text-align: right;\">\n",
       "      <th></th>\n",
       "      <th>brand</th>\n",
       "      <th>perfume</th>\n",
       "      <th>image</th>\n",
       "      <th>launch_year</th>\n",
       "      <th>main_accords</th>\n",
       "      <th>notes</th>\n",
       "      <th>longevity</th>\n",
       "      <th>sillage</th>\n",
       "    </tr>\n",
       "  </thead>\n",
       "  <tbody>\n",
       "    <tr>\n",
       "      <th>0</th>\n",
       "      <td>18 21 Man Made</td>\n",
       "      <td>Sweet Tobacco Spirits</td>\n",
       "      <td>o.37691.jpg</td>\n",
       "      <td>2016.0</td>\n",
       "      <td>[\"wine\", \"vanilla\", \"sweet\", \"woody\", \"aromatic\"]</td>\n",
       "      <td>[\"Citruses\", \"Saffron\", \"Tonka Bean\", \"Vanilla...</td>\n",
       "      <td>[\"4\", \"0\", \"9\", \"14\", \"31\"]</td>\n",
       "      <td>[\"10\", \"19\", \"28\", \"11\"]</td>\n",
       "    </tr>\n",
       "    <tr>\n",
       "      <th>1</th>\n",
       "      <td>40 Notes Perfume</td>\n",
       "      <td>Cashmere Musk</td>\n",
       "      <td>o.15537.jpg</td>\n",
       "      <td>NaN</td>\n",
       "      <td>[\"woody\", \"musky\", \"balsamic\", \"powdery\", \"war...</td>\n",
       "      <td>[\"Sandalwood\", \"Cedar\", \"White Musk\", \"Cashmer...</td>\n",
       "      <td>[\"1\", \"0\", \"0\", \"1\", \"1\"]</td>\n",
       "      <td>[\"1\", \"3\", \"0\", \"2\"]</td>\n",
       "    </tr>\n",
       "    <tr>\n",
       "      <th>2</th>\n",
       "      <td>40 Notes Perfume</td>\n",
       "      <td>Exotic Ylang Ylang</td>\n",
       "      <td>o.15536.jpg</td>\n",
       "      <td>NaN</td>\n",
       "      <td>[\"yellow floral\", \"white floral\", \"sweet\", \"mu...</td>\n",
       "      <td>[\"Ylang-Ylang\", \"Gardenia\", \"Musk\"]</td>\n",
       "      <td>[\"1\", \"0\", \"0\", \"0\", \"2\"]</td>\n",
       "      <td>[\"0\", \"2\", \"1\", \"2\"]</td>\n",
       "    </tr>\n",
       "    <tr>\n",
       "      <th>3</th>\n",
       "      <td>40 Notes Perfume</td>\n",
       "      <td>Exquisite Amber</td>\n",
       "      <td>o.15538.jpg</td>\n",
       "      <td>NaN</td>\n",
       "      <td>[\"balsamic\", \"vanilla\", \"amber\", \"musky\", \"war...</td>\n",
       "      <td>[\"Labdanum\", \"Styrax\", \"Benzoin\", \"Vanilla\", \"...</td>\n",
       "      <td>[\"0\", \"0\", \"0\", \"0\", \"1\"]</td>\n",
       "      <td>[\"1\", \"0\", \"3\", \"1\"]</td>\n",
       "    </tr>\n",
       "    <tr>\n",
       "      <th>4</th>\n",
       "      <td>40 Notes Perfume</td>\n",
       "      <td>Oudwood Veil</td>\n",
       "      <td>o.15539.jpg</td>\n",
       "      <td>NaN</td>\n",
       "      <td>[\"oud\", \"amber\", \"fresh spicy\", \"balsamic\", \"w...</td>\n",
       "      <td>[\"Kephalis\", \"Agarwood (Oud)\"]</td>\n",
       "      <td>[\"1\", \"1\", \"1\", \"0\", \"6\"]</td>\n",
       "      <td>[\"1\", \"4\", \"0\", \"5\"]</td>\n",
       "    </tr>\n",
       "  </tbody>\n",
       "</table>\n",
       "</div>"
      ],
      "text/plain": [
       "              brand                perfume        image  launch_year  \\\n",
       "0    18 21 Man Made  Sweet Tobacco Spirits  o.37691.jpg       2016.0   \n",
       "1  40 Notes Perfume          Cashmere Musk  o.15537.jpg          NaN   \n",
       "2  40 Notes Perfume     Exotic Ylang Ylang  o.15536.jpg          NaN   \n",
       "3  40 Notes Perfume        Exquisite Amber  o.15538.jpg          NaN   \n",
       "4  40 Notes Perfume           Oudwood Veil  o.15539.jpg          NaN   \n",
       "\n",
       "                                        main_accords  \\\n",
       "0  [\"wine\", \"vanilla\", \"sweet\", \"woody\", \"aromatic\"]   \n",
       "1  [\"woody\", \"musky\", \"balsamic\", \"powdery\", \"war...   \n",
       "2  [\"yellow floral\", \"white floral\", \"sweet\", \"mu...   \n",
       "3  [\"balsamic\", \"vanilla\", \"amber\", \"musky\", \"war...   \n",
       "4  [\"oud\", \"amber\", \"fresh spicy\", \"balsamic\", \"w...   \n",
       "\n",
       "                                               notes  \\\n",
       "0  [\"Citruses\", \"Saffron\", \"Tonka Bean\", \"Vanilla...   \n",
       "1  [\"Sandalwood\", \"Cedar\", \"White Musk\", \"Cashmer...   \n",
       "2                [\"Ylang-Ylang\", \"Gardenia\", \"Musk\"]   \n",
       "3  [\"Labdanum\", \"Styrax\", \"Benzoin\", \"Vanilla\", \"...   \n",
       "4                     [\"Kephalis\", \"Agarwood (Oud)\"]   \n",
       "\n",
       "                     longevity                   sillage  \n",
       "0  [\"4\", \"0\", \"9\", \"14\", \"31\"]  [\"10\", \"19\", \"28\", \"11\"]  \n",
       "1    [\"1\", \"0\", \"0\", \"1\", \"1\"]      [\"1\", \"3\", \"0\", \"2\"]  \n",
       "2    [\"1\", \"0\", \"0\", \"0\", \"2\"]      [\"0\", \"2\", \"1\", \"2\"]  \n",
       "3    [\"0\", \"0\", \"0\", \"0\", \"1\"]      [\"1\", \"0\", \"3\", \"1\"]  \n",
       "4    [\"1\", \"1\", \"1\", \"0\", \"6\"]      [\"1\", \"4\", \"0\", \"5\"]  "
      ]
     },
     "execution_count": 5,
     "metadata": {},
     "output_type": "execute_result"
    }
   ],
   "source": [
    "dataframe.head()"
   ]
  },
  {
   "cell_type": "code",
   "execution_count": null,
   "id": "0b638fbc",
   "metadata": {},
   "outputs": [],
   "source": []
  }
 ],
 "metadata": {
  "kernelspec": {
   "display_name": "Python 3 (ipykernel)",
   "language": "python",
   "name": "python3"
  },
  "language_info": {
   "codemirror_mode": {
    "name": "ipython",
    "version": 3
   },
   "file_extension": ".py",
   "mimetype": "text/x-python",
   "name": "python",
   "nbconvert_exporter": "python",
   "pygments_lexer": "ipython3",
   "version": "3.10.9"
  },
  "toc": {
   "base_numbering": 1,
   "nav_menu": {},
   "number_sections": true,
   "sideBar": true,
   "skip_h1_title": false,
   "title_cell": "Table of Contents",
   "title_sidebar": "Contents",
   "toc_cell": false,
   "toc_position": {},
   "toc_section_display": true,
   "toc_window_display": false
  },
  "varInspector": {
   "cols": {
    "lenName": 16,
    "lenType": 16,
    "lenVar": 40
   },
   "kernels_config": {
    "python": {
     "delete_cmd_postfix": "",
     "delete_cmd_prefix": "del ",
     "library": "var_list.py",
     "varRefreshCmd": "print(var_dic_list())"
    },
    "r": {
     "delete_cmd_postfix": ") ",
     "delete_cmd_prefix": "rm(",
     "library": "var_list.r",
     "varRefreshCmd": "cat(var_dic_list()) "
    }
   },
   "types_to_exclude": [
    "module",
    "function",
    "builtin_function_or_method",
    "instance",
    "_Feature"
   ],
   "window_display": false
  }
 },
 "nbformat": 4,
 "nbformat_minor": 5
}
