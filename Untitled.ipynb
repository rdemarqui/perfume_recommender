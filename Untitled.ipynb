{
 "cells": [
  {
   "cell_type": "code",
   "execution_count": 1,
   "id": "8401d09d",
   "metadata": {
    "ExecuteTime": {
     "end_time": "2023-08-02T20:02:13.859337Z",
     "start_time": "2023-08-02T20:02:13.005629Z"
    }
   },
   "outputs": [],
   "source": [
    "import pandas as pd\n",
    "from sklearn.feature_extraction.text import CountVectorizer\n",
    "from sklearn.metrics.pairwise import cosine_similarity"
   ]
  },
  {
   "cell_type": "markdown",
   "id": "8fc8f1f1",
   "metadata": {
    "ExecuteTime": {
     "end_time": "2023-08-02T20:31:20.127515Z",
     "start_time": "2023-08-02T20:31:20.119755Z"
    }
   },
   "source": [
    "## Open Data"
   ]
  },
  {
   "cell_type": "code",
   "execution_count": 2,
   "id": "841f24c7",
   "metadata": {
    "ExecuteTime": {
     "end_time": "2023-08-02T20:02:18.688374Z",
     "start_time": "2023-08-02T20:02:13.859337Z"
    }
   },
   "outputs": [],
   "source": [
    "df = pd.read_excel('database\\perfume_database.xlsx', \n",
    "                   usecols=['brand', 'perfume', 'notes'])"
   ]
  },
  {
   "cell_type": "code",
   "execution_count": 3,
   "id": "7d4621f7",
   "metadata": {
    "ExecuteTime": {
     "end_time": "2023-08-02T20:02:18.767360Z",
     "start_time": "2023-08-02T20:02:18.688374Z"
    }
   },
   "outputs": [
    {
     "data": {
      "text/html": [
       "<div>\n",
       "<style scoped>\n",
       "    .dataframe tbody tr th:only-of-type {\n",
       "        vertical-align: middle;\n",
       "    }\n",
       "\n",
       "    .dataframe tbody tr th {\n",
       "        vertical-align: top;\n",
       "    }\n",
       "\n",
       "    .dataframe thead th {\n",
       "        text-align: right;\n",
       "    }\n",
       "</style>\n",
       "<table border=\"1\" class=\"dataframe\">\n",
       "  <thead>\n",
       "    <tr style=\"text-align: right;\">\n",
       "      <th></th>\n",
       "      <th>brand</th>\n",
       "      <th>perfume</th>\n",
       "      <th>notes</th>\n",
       "    </tr>\n",
       "  </thead>\n",
       "  <tbody>\n",
       "    <tr>\n",
       "      <th>0</th>\n",
       "      <td>18 21 Man Made</td>\n",
       "      <td>Sweet Tobacco Spirits</td>\n",
       "      <td>[\"Citruses\", \"Saffron\", \"Tonka Bean\", \"Vanilla...</td>\n",
       "    </tr>\n",
       "    <tr>\n",
       "      <th>1</th>\n",
       "      <td>40 Notes Perfume</td>\n",
       "      <td>Cashmere Musk</td>\n",
       "      <td>[\"Sandalwood\", \"Cedar\", \"White Musk\", \"Cashmer...</td>\n",
       "    </tr>\n",
       "    <tr>\n",
       "      <th>2</th>\n",
       "      <td>40 Notes Perfume</td>\n",
       "      <td>Exotic Ylang Ylang</td>\n",
       "      <td>[\"Ylang-Ylang\", \"Gardenia\", \"Musk\"]</td>\n",
       "    </tr>\n",
       "    <tr>\n",
       "      <th>3</th>\n",
       "      <td>40 Notes Perfume</td>\n",
       "      <td>Exquisite Amber</td>\n",
       "      <td>[\"Labdanum\", \"Styrax\", \"Benzoin\", \"Vanilla\", \"...</td>\n",
       "    </tr>\n",
       "    <tr>\n",
       "      <th>4</th>\n",
       "      <td>40 Notes Perfume</td>\n",
       "      <td>Oudwood Veil</td>\n",
       "      <td>[\"Kephalis\", \"Agarwood (Oud)\"]</td>\n",
       "    </tr>\n",
       "    <tr>\n",
       "      <th>...</th>\n",
       "      <td>...</td>\n",
       "      <td>...</td>\n",
       "      <td>...</td>\n",
       "    </tr>\n",
       "    <tr>\n",
       "      <th>37921</th>\n",
       "      <td>Urban Rituelle</td>\n",
       "      <td>Lemongrass Blend</td>\n",
       "      <td>[\"Lemongrass\", \"Myrtle\", \"Grapefruit\", \"Eucaly...</td>\n",
       "    </tr>\n",
       "    <tr>\n",
       "      <th>37922</th>\n",
       "      <td>Urban Rituelle</td>\n",
       "      <td>Peach Blossom</td>\n",
       "      <td>[\"Peach\", \"Honey\", \"Sweet Pea\", \"Mimosa\"]</td>\n",
       "    </tr>\n",
       "    <tr>\n",
       "      <th>37923</th>\n",
       "      <td>Urban Rituelle</td>\n",
       "      <td>Pomegranate</td>\n",
       "      <td>[\"Pomegranate\", \"Citruses\", \"Red Berries\"]</td>\n",
       "    </tr>\n",
       "    <tr>\n",
       "      <th>37924</th>\n",
       "      <td>Urban Rituelle</td>\n",
       "      <td>Vanilla</td>\n",
       "      <td>[\"Vanilla\", \"Caramel\", \"Milk\"]</td>\n",
       "    </tr>\n",
       "    <tr>\n",
       "      <th>37925</th>\n",
       "      <td>Urban Rituelle</td>\n",
       "      <td>Vanilla Blend</td>\n",
       "      <td>[\"Vanilla\", \"Lavender\", \"Geranium\"]</td>\n",
       "    </tr>\n",
       "  </tbody>\n",
       "</table>\n",
       "<p>36969 rows × 3 columns</p>\n",
       "</div>"
      ],
      "text/plain": [
       "                  brand                perfume  \\\n",
       "0        18 21 Man Made  Sweet Tobacco Spirits   \n",
       "1      40 Notes Perfume          Cashmere Musk   \n",
       "2      40 Notes Perfume     Exotic Ylang Ylang   \n",
       "3      40 Notes Perfume        Exquisite Amber   \n",
       "4      40 Notes Perfume           Oudwood Veil   \n",
       "...                 ...                    ...   \n",
       "37921    Urban Rituelle       Lemongrass Blend   \n",
       "37922    Urban Rituelle          Peach Blossom   \n",
       "37923    Urban Rituelle            Pomegranate   \n",
       "37924    Urban Rituelle                Vanilla   \n",
       "37925    Urban Rituelle          Vanilla Blend   \n",
       "\n",
       "                                                   notes  \n",
       "0      [\"Citruses\", \"Saffron\", \"Tonka Bean\", \"Vanilla...  \n",
       "1      [\"Sandalwood\", \"Cedar\", \"White Musk\", \"Cashmer...  \n",
       "2                    [\"Ylang-Ylang\", \"Gardenia\", \"Musk\"]  \n",
       "3      [\"Labdanum\", \"Styrax\", \"Benzoin\", \"Vanilla\", \"...  \n",
       "4                         [\"Kephalis\", \"Agarwood (Oud)\"]  \n",
       "...                                                  ...  \n",
       "37921  [\"Lemongrass\", \"Myrtle\", \"Grapefruit\", \"Eucaly...  \n",
       "37922          [\"Peach\", \"Honey\", \"Sweet Pea\", \"Mimosa\"]  \n",
       "37923         [\"Pomegranate\", \"Citruses\", \"Red Berries\"]  \n",
       "37924                     [\"Vanilla\", \"Caramel\", \"Milk\"]  \n",
       "37925                [\"Vanilla\", \"Lavender\", \"Geranium\"]  \n",
       "\n",
       "[36969 rows x 3 columns]"
      ]
     },
     "execution_count": 3,
     "metadata": {},
     "output_type": "execute_result"
    }
   ],
   "source": [
    "# Drop perfumes with no notes\n",
    "df = df[df['notes'].notna()]\n",
    "df"
   ]
  },
  {
   "cell_type": "code",
   "execution_count": 4,
   "id": "40d494b0",
   "metadata": {
    "ExecuteTime": {
     "end_time": "2023-08-02T20:02:18.791159Z",
     "start_time": "2023-08-02T20:02:18.771994Z"
    }
   },
   "outputs": [
    {
     "data": {
      "text/html": [
       "<div>\n",
       "<style scoped>\n",
       "    .dataframe tbody tr th:only-of-type {\n",
       "        vertical-align: middle;\n",
       "    }\n",
       "\n",
       "    .dataframe tbody tr th {\n",
       "        vertical-align: top;\n",
       "    }\n",
       "\n",
       "    .dataframe thead th {\n",
       "        text-align: right;\n",
       "    }\n",
       "</style>\n",
       "<table border=\"1\" class=\"dataframe\">\n",
       "  <thead>\n",
       "    <tr style=\"text-align: right;\">\n",
       "      <th></th>\n",
       "      <th>notes</th>\n",
       "    </tr>\n",
       "  </thead>\n",
       "  <tbody>\n",
       "    <tr>\n",
       "      <th>0</th>\n",
       "      <td>[\"Citruses\", \"Saffron\", \"Tonka Bean\", \"Vanilla...</td>\n",
       "    </tr>\n",
       "    <tr>\n",
       "      <th>1</th>\n",
       "      <td>[\"Sandalwood\", \"Cedar\", \"White Musk\", \"Cashmer...</td>\n",
       "    </tr>\n",
       "    <tr>\n",
       "      <th>2</th>\n",
       "      <td>[\"Ylang-Ylang\", \"Gardenia\", \"Musk\"]</td>\n",
       "    </tr>\n",
       "    <tr>\n",
       "      <th>3</th>\n",
       "      <td>[\"Labdanum\", \"Styrax\", \"Benzoin\", \"Vanilla\", \"...</td>\n",
       "    </tr>\n",
       "    <tr>\n",
       "      <th>4</th>\n",
       "      <td>[\"Kephalis\", \"Agarwood (Oud)\"]</td>\n",
       "    </tr>\n",
       "    <tr>\n",
       "      <th>5</th>\n",
       "      <td>[\"Green Notes\", \"Jasmine\", \"Tuberose\", \"Honeys...</td>\n",
       "    </tr>\n",
       "    <tr>\n",
       "      <th>6</th>\n",
       "      <td>[\"Grapefruit\", \"Black Currant\", \"Honeysuckle\",...</td>\n",
       "    </tr>\n",
       "    <tr>\n",
       "      <th>7</th>\n",
       "      <td>[\"Orange Blossom\", \"Neroli\", \"White Musk\"]</td>\n",
       "    </tr>\n",
       "    <tr>\n",
       "      <th>8</th>\n",
       "      <td>{\"middle\": [\"Woodsy Notes\", \"Coriander\", \"Nutm...</td>\n",
       "    </tr>\n",
       "    <tr>\n",
       "      <th>9</th>\n",
       "      <td>{\"middle\": [\"Damask Rose\", \"Rose\"], \"base\": [\"...</td>\n",
       "    </tr>\n",
       "  </tbody>\n",
       "</table>\n",
       "</div>"
      ],
      "text/plain": [
       "                                               notes\n",
       "0  [\"Citruses\", \"Saffron\", \"Tonka Bean\", \"Vanilla...\n",
       "1  [\"Sandalwood\", \"Cedar\", \"White Musk\", \"Cashmer...\n",
       "2                [\"Ylang-Ylang\", \"Gardenia\", \"Musk\"]\n",
       "3  [\"Labdanum\", \"Styrax\", \"Benzoin\", \"Vanilla\", \"...\n",
       "4                     [\"Kephalis\", \"Agarwood (Oud)\"]\n",
       "5  [\"Green Notes\", \"Jasmine\", \"Tuberose\", \"Honeys...\n",
       "6  [\"Grapefruit\", \"Black Currant\", \"Honeysuckle\",...\n",
       "7         [\"Orange Blossom\", \"Neroli\", \"White Musk\"]\n",
       "8  {\"middle\": [\"Woodsy Notes\", \"Coriander\", \"Nutm...\n",
       "9  {\"middle\": [\"Damask Rose\", \"Rose\"], \"base\": [\"..."
      ]
     },
     "execution_count": 4,
     "metadata": {},
     "output_type": "execute_result"
    }
   ],
   "source": [
    "corpus = pd.DataFrame(df['notes'])\n",
    "corpus.head(10)"
   ]
  },
  {
   "cell_type": "markdown",
   "id": "2bad67ef",
   "metadata": {},
   "source": [
    "## Clean Data"
   ]
  },
  {
   "cell_type": "code",
   "execution_count": 5,
   "id": "a2d013ae",
   "metadata": {
    "ExecuteTime": {
     "end_time": "2023-08-02T20:02:18.839014Z",
     "start_time": "2023-08-02T20:02:18.791159Z"
    }
   },
   "outputs": [],
   "source": [
    "itens_to_remove = [\n",
    "    '[', ']', '\"', '{', '}',\n",
    "    'middle: ', 'top: ', 'base: ', 'null'\n",
    "]\n",
    "def remove_items(text):\n",
    "    for item in itens_to_remove:\n",
    "        text = text.replace(item, \"\")\n",
    "    return text"
   ]
  },
  {
   "cell_type": "code",
   "execution_count": 6,
   "id": "96e91f6b",
   "metadata": {
    "ExecuteTime": {
     "end_time": "2023-08-02T20:02:19.018583Z",
     "start_time": "2023-08-02T20:02:18.841244Z"
    }
   },
   "outputs": [
    {
     "data": {
      "text/html": [
       "<div>\n",
       "<style scoped>\n",
       "    .dataframe tbody tr th:only-of-type {\n",
       "        vertical-align: middle;\n",
       "    }\n",
       "\n",
       "    .dataframe tbody tr th {\n",
       "        vertical-align: top;\n",
       "    }\n",
       "\n",
       "    .dataframe thead th {\n",
       "        text-align: right;\n",
       "    }\n",
       "</style>\n",
       "<table border=\"1\" class=\"dataframe\">\n",
       "  <thead>\n",
       "    <tr style=\"text-align: right;\">\n",
       "      <th></th>\n",
       "      <th>notes</th>\n",
       "    </tr>\n",
       "  </thead>\n",
       "  <tbody>\n",
       "    <tr>\n",
       "      <th>0</th>\n",
       "      <td>citruses, saffron, tonka bean, vanilla, exotic...</td>\n",
       "    </tr>\n",
       "    <tr>\n",
       "      <th>1</th>\n",
       "      <td>sandalwood, cedar, white musk, cashmere wood</td>\n",
       "    </tr>\n",
       "    <tr>\n",
       "      <th>2</th>\n",
       "      <td>ylang-ylang, gardenia, musk</td>\n",
       "    </tr>\n",
       "    <tr>\n",
       "      <th>3</th>\n",
       "      <td>labdanum, styrax, benzoin, vanilla, musk</td>\n",
       "    </tr>\n",
       "    <tr>\n",
       "      <th>4</th>\n",
       "      <td>kephalis, agarwood (oud)</td>\n",
       "    </tr>\n",
       "    <tr>\n",
       "      <th>5</th>\n",
       "      <td>green notes, jasmine, tuberose, honeysuckle</td>\n",
       "    </tr>\n",
       "    <tr>\n",
       "      <th>6</th>\n",
       "      <td>grapefruit, black currant, honeysuckle, orchid...</td>\n",
       "    </tr>\n",
       "    <tr>\n",
       "      <th>7</th>\n",
       "      <td>orange blossom, neroli, white musk</td>\n",
       "    </tr>\n",
       "    <tr>\n",
       "      <th>8</th>\n",
       "      <td>woodsy notes, coriander, nutmeg, patchouli, oa...</td>\n",
       "    </tr>\n",
       "    <tr>\n",
       "      <th>9</th>\n",
       "      <td>damask rose, rose, amber, ginger, apricot, cle...</td>\n",
       "    </tr>\n",
       "  </tbody>\n",
       "</table>\n",
       "</div>"
      ],
      "text/plain": [
       "                                               notes\n",
       "0  citruses, saffron, tonka bean, vanilla, exotic...\n",
       "1       sandalwood, cedar, white musk, cashmere wood\n",
       "2                        ylang-ylang, gardenia, musk\n",
       "3           labdanum, styrax, benzoin, vanilla, musk\n",
       "4                           kephalis, agarwood (oud)\n",
       "5        green notes, jasmine, tuberose, honeysuckle\n",
       "6  grapefruit, black currant, honeysuckle, orchid...\n",
       "7                 orange blossom, neroli, white musk\n",
       "8  woodsy notes, coriander, nutmeg, patchouli, oa...\n",
       "9  damask rose, rose, amber, ginger, apricot, cle..."
      ]
     },
     "execution_count": 6,
     "metadata": {},
     "output_type": "execute_result"
    }
   ],
   "source": [
    "# Cleaning text\n",
    "corpus['notes'] = corpus['notes'].astype(str)\n",
    "corpus['notes'] = corpus['notes'].str.lower()\n",
    "corpus['notes'] = corpus['notes'].apply(remove_items)\n",
    "corpus.head(10)"
   ]
  },
  {
   "cell_type": "markdown",
   "id": "15443d9f",
   "metadata": {},
   "source": [
    "## Vectorize Data"
   ]
  },
  {
   "cell_type": "code",
   "execution_count": 9,
   "id": "1c7f63ed",
   "metadata": {
    "ExecuteTime": {
     "end_time": "2023-08-02T20:02:21.776913Z",
     "start_time": "2023-08-02T20:02:21.767947Z"
    }
   },
   "outputs": [],
   "source": [
    "def custom_tokenizer(text):\n",
    "    return text.split(',')"
   ]
  },
  {
   "cell_type": "code",
   "execution_count": 10,
   "id": "a14fc7b3",
   "metadata": {
    "ExecuteTime": {
     "end_time": "2023-08-02T20:02:21.818832Z",
     "start_time": "2023-08-02T20:02:21.776913Z"
    }
   },
   "outputs": [],
   "source": [
    "count_vectorizer = CountVectorizer(tokenizer=custom_tokenizer)"
   ]
  },
  {
   "cell_type": "code",
   "execution_count": 51,
   "id": "2a79c44b",
   "metadata": {
    "ExecuteTime": {
     "end_time": "2023-08-02T20:28:47.608746Z",
     "start_time": "2023-08-02T20:28:47.422411Z"
    }
   },
   "outputs": [],
   "source": [
    "bag_of_words = count_vectorizer.fit_transform(corpus.notes)"
   ]
  },
  {
   "cell_type": "code",
   "execution_count": 52,
   "id": "912f7c0e",
   "metadata": {
    "ExecuteTime": {
     "end_time": "2023-08-02T20:28:48.787093Z",
     "start_time": "2023-08-02T20:28:48.775198Z"
    }
   },
   "outputs": [
    {
     "data": {
      "text/plain": [
       "(36969, 2145)"
      ]
     },
     "execution_count": 52,
     "metadata": {},
     "output_type": "execute_result"
    }
   ],
   "source": [
    "bag_of_words.shape"
   ]
  },
  {
   "cell_type": "markdown",
   "id": "8cfdb48c",
   "metadata": {
    "ExecuteTime": {
     "end_time": "2023-08-02T20:19:51.569080Z",
     "start_time": "2023-08-02T20:19:51.559085Z"
    }
   },
   "source": [
    "## Calculate similarity"
   ]
  },
  {
   "cell_type": "code",
   "execution_count": null,
   "id": "264c64ed",
   "metadata": {
    "ExecuteTime": {
     "end_time": "2023-08-02T20:29:41.325100Z",
     "start_time": "2023-08-02T20:29:08.053465Z"
    }
   },
   "outputs": [],
   "source": [
    "#similarity_matrix = cosine_similarity(bag_of_words)"
   ]
  },
  {
   "cell_type": "code",
   "execution_count": null,
   "id": "1d146488",
   "metadata": {
    "ExecuteTime": {
     "end_time": "2023-08-02T20:29:41.345799Z",
     "start_time": "2023-08-02T20:29:41.345799Z"
    }
   },
   "outputs": [],
   "source": [
    "similarity_matrix.shape"
   ]
  },
  {
   "cell_type": "code",
   "execution_count": null,
   "id": "0f9612bd",
   "metadata": {},
   "outputs": [],
   "source": []
  }
 ],
 "metadata": {
  "kernelspec": {
   "display_name": "Python 3 (ipykernel)",
   "language": "python",
   "name": "python3"
  },
  "language_info": {
   "codemirror_mode": {
    "name": "ipython",
    "version": 3
   },
   "file_extension": ".py",
   "mimetype": "text/x-python",
   "name": "python",
   "nbconvert_exporter": "python",
   "pygments_lexer": "ipython3",
   "version": "3.10.9"
  },
  "toc": {
   "base_numbering": 1,
   "nav_menu": {},
   "number_sections": true,
   "sideBar": true,
   "skip_h1_title": false,
   "title_cell": "Table of Contents",
   "title_sidebar": "Contents",
   "toc_cell": false,
   "toc_position": {},
   "toc_section_display": true,
   "toc_window_display": false
  },
  "varInspector": {
   "cols": {
    "lenName": 16,
    "lenType": 16,
    "lenVar": 40
   },
   "kernels_config": {
    "python": {
     "delete_cmd_postfix": "",
     "delete_cmd_prefix": "del ",
     "library": "var_list.py",
     "varRefreshCmd": "print(var_dic_list())"
    },
    "r": {
     "delete_cmd_postfix": ") ",
     "delete_cmd_prefix": "rm(",
     "library": "var_list.r",
     "varRefreshCmd": "cat(var_dic_list()) "
    }
   },
   "types_to_exclude": [
    "module",
    "function",
    "builtin_function_or_method",
    "instance",
    "_Feature"
   ],
   "window_display": false
  }
 },
 "nbformat": 4,
 "nbformat_minor": 5
}
