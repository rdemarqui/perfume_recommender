{
 "cells": [
  {
   "cell_type": "code",
   "execution_count": 1,
   "id": "8401d09d",
   "metadata": {
    "ExecuteTime": {
     "end_time": "2023-08-07T20:08:02.338434Z",
     "start_time": "2023-08-07T20:08:01.451834Z"
    }
   },
   "outputs": [],
   "source": [
    "import pandas as pd\n",
    "import numpy as np"
   ]
  },
  {
   "cell_type": "code",
   "execution_count": 2,
   "id": "d3a4ada6",
   "metadata": {
    "ExecuteTime": {
     "end_time": "2023-08-07T20:08:02.354125Z",
     "start_time": "2023-08-07T20:08:02.342096Z"
    }
   },
   "outputs": [],
   "source": [
    "import warnings\n",
    "warnings.simplefilter(\"ignore\", category=Warning)"
   ]
  },
  {
   "cell_type": "markdown",
   "id": "a399e5ff",
   "metadata": {},
   "source": [
    "* https://discuss.huggingface.co/t/how-to-update-the-gr-dropdown-block-in-gradio-blocks/19231\n",
    "* https://stackoverflow.com/questions/76693922/what-am-i-doing-wrong-with-gradio-dropdown-how-to-dynamically-modify-the-choice\n",
    "* https://www.gradio.app/docs/dropdown"
   ]
  },
  {
   "cell_type": "markdown",
   "id": "8fc8f1f1",
   "metadata": {
    "ExecuteTime": {
     "end_time": "2023-08-02T20:31:20.127515Z",
     "start_time": "2023-08-02T20:31:20.119755Z"
    }
   },
   "source": [
    "## Open Data"
   ]
  },
  {
   "cell_type": "code",
   "execution_count": 3,
   "id": "841f24c7",
   "metadata": {
    "ExecuteTime": {
     "end_time": "2023-08-07T20:08:11.243460Z",
     "start_time": "2023-08-07T20:08:02.357043Z"
    }
   },
   "outputs": [],
   "source": [
    "df = pd.read_excel('database\\perfume_database.xlsx', \n",
    "                   usecols=['brand', 'perfume', 'notes'])"
   ]
  },
  {
   "cell_type": "code",
   "execution_count": 4,
   "id": "7d4621f7",
   "metadata": {
    "ExecuteTime": {
     "end_time": "2023-08-07T20:08:11.336377Z",
     "start_time": "2023-08-07T20:08:11.249441Z"
    }
   },
   "outputs": [
    {
     "data": {
      "text/html": [
       "<div>\n",
       "<style scoped>\n",
       "    .dataframe tbody tr th:only-of-type {\n",
       "        vertical-align: middle;\n",
       "    }\n",
       "\n",
       "    .dataframe tbody tr th {\n",
       "        vertical-align: top;\n",
       "    }\n",
       "\n",
       "    .dataframe thead th {\n",
       "        text-align: right;\n",
       "    }\n",
       "</style>\n",
       "<table border=\"1\" class=\"dataframe\">\n",
       "  <thead>\n",
       "    <tr style=\"text-align: right;\">\n",
       "      <th></th>\n",
       "      <th>brand</th>\n",
       "      <th>perfume</th>\n",
       "      <th>notes</th>\n",
       "    </tr>\n",
       "  </thead>\n",
       "  <tbody>\n",
       "    <tr>\n",
       "      <th>0</th>\n",
       "      <td>18 21 Man Made</td>\n",
       "      <td>Sweet Tobacco Spirits</td>\n",
       "      <td>[\"Citruses\", \"Saffron\", \"Tonka Bean\", \"Vanilla...</td>\n",
       "    </tr>\n",
       "    <tr>\n",
       "      <th>1</th>\n",
       "      <td>40 Notes Perfume</td>\n",
       "      <td>Cashmere Musk</td>\n",
       "      <td>[\"Sandalwood\", \"Cedar\", \"White Musk\", \"Cashmer...</td>\n",
       "    </tr>\n",
       "    <tr>\n",
       "      <th>2</th>\n",
       "      <td>40 Notes Perfume</td>\n",
       "      <td>Exotic Ylang Ylang</td>\n",
       "      <td>[\"Ylang-Ylang\", \"Gardenia\", \"Musk\"]</td>\n",
       "    </tr>\n",
       "    <tr>\n",
       "      <th>3</th>\n",
       "      <td>40 Notes Perfume</td>\n",
       "      <td>Exquisite Amber</td>\n",
       "      <td>[\"Labdanum\", \"Styrax\", \"Benzoin\", \"Vanilla\", \"...</td>\n",
       "    </tr>\n",
       "    <tr>\n",
       "      <th>4</th>\n",
       "      <td>40 Notes Perfume</td>\n",
       "      <td>Oudwood Veil</td>\n",
       "      <td>[\"Kephalis\", \"Agarwood (Oud)\"]</td>\n",
       "    </tr>\n",
       "    <tr>\n",
       "      <th>...</th>\n",
       "      <td>...</td>\n",
       "      <td>...</td>\n",
       "      <td>...</td>\n",
       "    </tr>\n",
       "    <tr>\n",
       "      <th>36964</th>\n",
       "      <td>Urban Rituelle</td>\n",
       "      <td>Lemongrass Blend</td>\n",
       "      <td>[\"Lemongrass\", \"Myrtle\", \"Grapefruit\", \"Eucaly...</td>\n",
       "    </tr>\n",
       "    <tr>\n",
       "      <th>36965</th>\n",
       "      <td>Urban Rituelle</td>\n",
       "      <td>Peach Blossom</td>\n",
       "      <td>[\"Peach\", \"Honey\", \"Sweet Pea\", \"Mimosa\"]</td>\n",
       "    </tr>\n",
       "    <tr>\n",
       "      <th>36966</th>\n",
       "      <td>Urban Rituelle</td>\n",
       "      <td>Pomegranate</td>\n",
       "      <td>[\"Pomegranate\", \"Citruses\", \"Red Berries\"]</td>\n",
       "    </tr>\n",
       "    <tr>\n",
       "      <th>36967</th>\n",
       "      <td>Urban Rituelle</td>\n",
       "      <td>Vanilla</td>\n",
       "      <td>[\"Vanilla\", \"Caramel\", \"Milk\"]</td>\n",
       "    </tr>\n",
       "    <tr>\n",
       "      <th>36968</th>\n",
       "      <td>Urban Rituelle</td>\n",
       "      <td>Vanilla Blend</td>\n",
       "      <td>[\"Vanilla\", \"Lavender\", \"Geranium\"]</td>\n",
       "    </tr>\n",
       "  </tbody>\n",
       "</table>\n",
       "<p>36969 rows × 3 columns</p>\n",
       "</div>"
      ],
      "text/plain": [
       "                  brand                perfume  \\\n",
       "0        18 21 Man Made  Sweet Tobacco Spirits   \n",
       "1      40 Notes Perfume          Cashmere Musk   \n",
       "2      40 Notes Perfume     Exotic Ylang Ylang   \n",
       "3      40 Notes Perfume        Exquisite Amber   \n",
       "4      40 Notes Perfume           Oudwood Veil   \n",
       "...                 ...                    ...   \n",
       "36964    Urban Rituelle       Lemongrass Blend   \n",
       "36965    Urban Rituelle          Peach Blossom   \n",
       "36966    Urban Rituelle            Pomegranate   \n",
       "36967    Urban Rituelle                Vanilla   \n",
       "36968    Urban Rituelle          Vanilla Blend   \n",
       "\n",
       "                                                   notes  \n",
       "0      [\"Citruses\", \"Saffron\", \"Tonka Bean\", \"Vanilla...  \n",
       "1      [\"Sandalwood\", \"Cedar\", \"White Musk\", \"Cashmer...  \n",
       "2                    [\"Ylang-Ylang\", \"Gardenia\", \"Musk\"]  \n",
       "3      [\"Labdanum\", \"Styrax\", \"Benzoin\", \"Vanilla\", \"...  \n",
       "4                         [\"Kephalis\", \"Agarwood (Oud)\"]  \n",
       "...                                                  ...  \n",
       "36964  [\"Lemongrass\", \"Myrtle\", \"Grapefruit\", \"Eucaly...  \n",
       "36965          [\"Peach\", \"Honey\", \"Sweet Pea\", \"Mimosa\"]  \n",
       "36966         [\"Pomegranate\", \"Citruses\", \"Red Berries\"]  \n",
       "36967                     [\"Vanilla\", \"Caramel\", \"Milk\"]  \n",
       "36968                [\"Vanilla\", \"Lavender\", \"Geranium\"]  \n",
       "\n",
       "[36969 rows x 3 columns]"
      ]
     },
     "execution_count": 4,
     "metadata": {},
     "output_type": "execute_result"
    }
   ],
   "source": [
    "# Drop perfumes with no notes\n",
    "df = df[df['notes'].notna()]\n",
    "df.reset_index(inplace=True, drop=True)\n",
    "df"
   ]
  },
  {
   "cell_type": "code",
   "execution_count": 5,
   "id": "40d494b0",
   "metadata": {
    "ExecuteTime": {
     "end_time": "2023-08-07T20:08:11.367018Z",
     "start_time": "2023-08-07T20:08:11.341285Z"
    }
   },
   "outputs": [
    {
     "data": {
      "text/html": [
       "<div>\n",
       "<style scoped>\n",
       "    .dataframe tbody tr th:only-of-type {\n",
       "        vertical-align: middle;\n",
       "    }\n",
       "\n",
       "    .dataframe tbody tr th {\n",
       "        vertical-align: top;\n",
       "    }\n",
       "\n",
       "    .dataframe thead th {\n",
       "        text-align: right;\n",
       "    }\n",
       "</style>\n",
       "<table border=\"1\" class=\"dataframe\">\n",
       "  <thead>\n",
       "    <tr style=\"text-align: right;\">\n",
       "      <th></th>\n",
       "      <th>notes</th>\n",
       "    </tr>\n",
       "  </thead>\n",
       "  <tbody>\n",
       "    <tr>\n",
       "      <th>0</th>\n",
       "      <td>[\"Citruses\", \"Saffron\", \"Tonka Bean\", \"Vanilla...</td>\n",
       "    </tr>\n",
       "    <tr>\n",
       "      <th>1</th>\n",
       "      <td>[\"Sandalwood\", \"Cedar\", \"White Musk\", \"Cashmer...</td>\n",
       "    </tr>\n",
       "    <tr>\n",
       "      <th>2</th>\n",
       "      <td>[\"Ylang-Ylang\", \"Gardenia\", \"Musk\"]</td>\n",
       "    </tr>\n",
       "    <tr>\n",
       "      <th>3</th>\n",
       "      <td>[\"Labdanum\", \"Styrax\", \"Benzoin\", \"Vanilla\", \"...</td>\n",
       "    </tr>\n",
       "    <tr>\n",
       "      <th>4</th>\n",
       "      <td>[\"Kephalis\", \"Agarwood (Oud)\"]</td>\n",
       "    </tr>\n",
       "    <tr>\n",
       "      <th>5</th>\n",
       "      <td>[\"Green Notes\", \"Jasmine\", \"Tuberose\", \"Honeys...</td>\n",
       "    </tr>\n",
       "    <tr>\n",
       "      <th>6</th>\n",
       "      <td>[\"Grapefruit\", \"Black Currant\", \"Honeysuckle\",...</td>\n",
       "    </tr>\n",
       "    <tr>\n",
       "      <th>7</th>\n",
       "      <td>[\"Orange Blossom\", \"Neroli\", \"White Musk\"]</td>\n",
       "    </tr>\n",
       "    <tr>\n",
       "      <th>8</th>\n",
       "      <td>{\"middle\": [\"Woodsy Notes\", \"Coriander\", \"Nutm...</td>\n",
       "    </tr>\n",
       "    <tr>\n",
       "      <th>9</th>\n",
       "      <td>{\"middle\": [\"Damask Rose\", \"Rose\"], \"base\": [\"...</td>\n",
       "    </tr>\n",
       "  </tbody>\n",
       "</table>\n",
       "</div>"
      ],
      "text/plain": [
       "                                               notes\n",
       "0  [\"Citruses\", \"Saffron\", \"Tonka Bean\", \"Vanilla...\n",
       "1  [\"Sandalwood\", \"Cedar\", \"White Musk\", \"Cashmer...\n",
       "2                [\"Ylang-Ylang\", \"Gardenia\", \"Musk\"]\n",
       "3  [\"Labdanum\", \"Styrax\", \"Benzoin\", \"Vanilla\", \"...\n",
       "4                     [\"Kephalis\", \"Agarwood (Oud)\"]\n",
       "5  [\"Green Notes\", \"Jasmine\", \"Tuberose\", \"Honeys...\n",
       "6  [\"Grapefruit\", \"Black Currant\", \"Honeysuckle\",...\n",
       "7         [\"Orange Blossom\", \"Neroli\", \"White Musk\"]\n",
       "8  {\"middle\": [\"Woodsy Notes\", \"Coriander\", \"Nutm...\n",
       "9  {\"middle\": [\"Damask Rose\", \"Rose\"], \"base\": [\"..."
      ]
     },
     "execution_count": 5,
     "metadata": {},
     "output_type": "execute_result"
    }
   ],
   "source": [
    "corpus = pd.DataFrame(df['notes'])\n",
    "corpus.head(10)"
   ]
  },
  {
   "cell_type": "markdown",
   "id": "2bad67ef",
   "metadata": {},
   "source": [
    "## Clean Data"
   ]
  },
  {
   "cell_type": "code",
   "execution_count": 6,
   "id": "a2d013ae",
   "metadata": {
    "ExecuteTime": {
     "end_time": "2023-08-07T20:08:11.398611Z",
     "start_time": "2023-08-07T20:08:11.370921Z"
    }
   },
   "outputs": [],
   "source": [
    "itens_to_remove = [\n",
    "    '[', ']', '\"', '{', '}',\n",
    "    'middle: ', 'top: ', 'base: ', 'null'\n",
    "]\n",
    "def remove_items(text):\n",
    "    for item in itens_to_remove:\n",
    "        text = text.replace(item, \"\")\n",
    "    return text"
   ]
  },
  {
   "cell_type": "code",
   "execution_count": 7,
   "id": "96e91f6b",
   "metadata": {
    "ExecuteTime": {
     "end_time": "2023-08-07T20:08:11.677481Z",
     "start_time": "2023-08-07T20:08:11.402980Z"
    }
   },
   "outputs": [
    {
     "data": {
      "text/html": [
       "<div>\n",
       "<style scoped>\n",
       "    .dataframe tbody tr th:only-of-type {\n",
       "        vertical-align: middle;\n",
       "    }\n",
       "\n",
       "    .dataframe tbody tr th {\n",
       "        vertical-align: top;\n",
       "    }\n",
       "\n",
       "    .dataframe thead th {\n",
       "        text-align: right;\n",
       "    }\n",
       "</style>\n",
       "<table border=\"1\" class=\"dataframe\">\n",
       "  <thead>\n",
       "    <tr style=\"text-align: right;\">\n",
       "      <th></th>\n",
       "      <th>notes</th>\n",
       "    </tr>\n",
       "  </thead>\n",
       "  <tbody>\n",
       "    <tr>\n",
       "      <th>0</th>\n",
       "      <td>citruses, saffron, tonka bean, vanilla, exotic...</td>\n",
       "    </tr>\n",
       "    <tr>\n",
       "      <th>1</th>\n",
       "      <td>sandalwood, cedar, white musk, cashmere wood</td>\n",
       "    </tr>\n",
       "    <tr>\n",
       "      <th>2</th>\n",
       "      <td>ylang-ylang, gardenia, musk</td>\n",
       "    </tr>\n",
       "    <tr>\n",
       "      <th>3</th>\n",
       "      <td>labdanum, styrax, benzoin, vanilla, musk</td>\n",
       "    </tr>\n",
       "    <tr>\n",
       "      <th>4</th>\n",
       "      <td>kephalis, agarwood (oud)</td>\n",
       "    </tr>\n",
       "    <tr>\n",
       "      <th>5</th>\n",
       "      <td>green notes, jasmine, tuberose, honeysuckle</td>\n",
       "    </tr>\n",
       "    <tr>\n",
       "      <th>6</th>\n",
       "      <td>grapefruit, black currant, honeysuckle, orchid...</td>\n",
       "    </tr>\n",
       "    <tr>\n",
       "      <th>7</th>\n",
       "      <td>orange blossom, neroli, white musk</td>\n",
       "    </tr>\n",
       "    <tr>\n",
       "      <th>8</th>\n",
       "      <td>woodsy notes, coriander, nutmeg, patchouli, oa...</td>\n",
       "    </tr>\n",
       "    <tr>\n",
       "      <th>9</th>\n",
       "      <td>damask rose, rose, amber, ginger, apricot, cle...</td>\n",
       "    </tr>\n",
       "  </tbody>\n",
       "</table>\n",
       "</div>"
      ],
      "text/plain": [
       "                                               notes\n",
       "0  citruses, saffron, tonka bean, vanilla, exotic...\n",
       "1       sandalwood, cedar, white musk, cashmere wood\n",
       "2                        ylang-ylang, gardenia, musk\n",
       "3           labdanum, styrax, benzoin, vanilla, musk\n",
       "4                           kephalis, agarwood (oud)\n",
       "5        green notes, jasmine, tuberose, honeysuckle\n",
       "6  grapefruit, black currant, honeysuckle, orchid...\n",
       "7                 orange blossom, neroli, white musk\n",
       "8  woodsy notes, coriander, nutmeg, patchouli, oa...\n",
       "9  damask rose, rose, amber, ginger, apricot, cle..."
      ]
     },
     "execution_count": 7,
     "metadata": {},
     "output_type": "execute_result"
    }
   ],
   "source": [
    "# Cleaning text\n",
    "corpus['notes'] = corpus['notes'].astype(str)\n",
    "corpus['notes'] = corpus['notes'].str.lower()\n",
    "corpus['notes'] = corpus['notes'].apply(remove_items)\n",
    "corpus.head(10)"
   ]
  },
  {
   "cell_type": "markdown",
   "id": "15443d9f",
   "metadata": {},
   "source": [
    "## Vectorize Data"
   ]
  },
  {
   "cell_type": "code",
   "execution_count": 8,
   "id": "20cbf46d",
   "metadata": {
    "ExecuteTime": {
     "end_time": "2023-08-07T20:08:13.832382Z",
     "start_time": "2023-08-07T20:08:11.682391Z"
    }
   },
   "outputs": [],
   "source": [
    "from sklearn.feature_extraction.text import CountVectorizer"
   ]
  },
  {
   "cell_type": "code",
   "execution_count": 9,
   "id": "1c7f63ed",
   "metadata": {
    "ExecuteTime": {
     "end_time": "2023-08-07T20:08:13.847382Z",
     "start_time": "2023-08-07T20:08:13.835321Z"
    }
   },
   "outputs": [],
   "source": [
    "def custom_tokenizer(text):\n",
    "    return text.split(',')"
   ]
  },
  {
   "cell_type": "code",
   "execution_count": 10,
   "id": "a14fc7b3",
   "metadata": {
    "ExecuteTime": {
     "end_time": "2023-08-07T20:08:13.893659Z",
     "start_time": "2023-08-07T20:08:13.853026Z"
    }
   },
   "outputs": [],
   "source": [
    "count_vectorizer = CountVectorizer(tokenizer=custom_tokenizer)"
   ]
  },
  {
   "cell_type": "code",
   "execution_count": 11,
   "id": "2a79c44b",
   "metadata": {
    "ExecuteTime": {
     "end_time": "2023-08-07T20:08:14.224363Z",
     "start_time": "2023-08-07T20:08:13.897655Z"
    }
   },
   "outputs": [],
   "source": [
    "bag_of_words = count_vectorizer.fit_transform(corpus.notes)"
   ]
  },
  {
   "cell_type": "code",
   "execution_count": 12,
   "id": "912f7c0e",
   "metadata": {
    "ExecuteTime": {
     "end_time": "2023-08-07T20:08:14.240471Z",
     "start_time": "2023-08-07T20:08:14.228359Z"
    }
   },
   "outputs": [
    {
     "data": {
      "text/plain": [
       "(36969, 2145)"
      ]
     },
     "execution_count": 12,
     "metadata": {},
     "output_type": "execute_result"
    }
   ],
   "source": [
    "bag_of_words.shape"
   ]
  },
  {
   "cell_type": "markdown",
   "id": "8cfdb48c",
   "metadata": {
    "ExecuteTime": {
     "end_time": "2023-08-02T20:19:51.569080Z",
     "start_time": "2023-08-02T20:19:51.559085Z"
    }
   },
   "source": [
    "## Calculate similarity"
   ]
  },
  {
   "cell_type": "code",
   "execution_count": 13,
   "id": "39106896",
   "metadata": {
    "ExecuteTime": {
     "end_time": "2023-08-07T20:08:14.489305Z",
     "start_time": "2023-08-07T20:08:14.242516Z"
    }
   },
   "outputs": [],
   "source": [
    "from sklearn.metrics.pairwise import cosine_similarity\n",
    "import scipy.sparse as sp\n",
    "import pickle, os, sys"
   ]
  },
  {
   "cell_type": "code",
   "execution_count": 14,
   "id": "264c64ed",
   "metadata": {
    "ExecuteTime": {
     "end_time": "2023-08-07T20:08:42.910938Z",
     "start_time": "2023-08-07T20:08:14.494152Z"
    }
   },
   "outputs": [],
   "source": [
    "similarity_matrix_sparse = cosine_similarity(bag_of_words, dense_output=False)"
   ]
  },
  {
   "cell_type": "code",
   "execution_count": 15,
   "id": "9eb5847e",
   "metadata": {
    "ExecuteTime": {
     "end_time": "2023-08-07T20:08:44.612419Z",
     "start_time": "2023-08-07T20:08:43.951194Z"
    }
   },
   "outputs": [
    {
     "data": {
      "text/plain": [
       "(36969, 36969)"
      ]
     },
     "execution_count": 15,
     "metadata": {},
     "output_type": "execute_result"
    }
   ],
   "source": [
    "similarity_matrix_sparse.shape"
   ]
  },
  {
   "cell_type": "code",
   "execution_count": 16,
   "id": "5724a0ca",
   "metadata": {
    "ExecuteTime": {
     "end_time": "2023-08-07T20:08:45.029536Z",
     "start_time": "2023-08-07T20:08:44.748280Z"
    }
   },
   "outputs": [
    {
     "data": {
      "text/plain": [
       "scipy.sparse._csr.csr_matrix"
      ]
     },
     "execution_count": 16,
     "metadata": {},
     "output_type": "execute_result"
    }
   ],
   "source": [
    "type(similarity_matrix_sparse)"
   ]
  },
  {
   "cell_type": "code",
   "execution_count": 26,
   "id": "68d5a924",
   "metadata": {
    "ExecuteTime": {
     "end_time": "2023-08-07T20:19:25.796750Z",
     "start_time": "2023-08-07T20:17:55.365812Z"
    }
   },
   "outputs": [
    {
     "name": "stdout",
     "output_type": "stream",
     "text": [
      "5000 calculated values\n",
      "10000 calculated values\n",
      "15000 calculated values\n",
      "20000 calculated values\n",
      "25000 calculated values\n",
      "30000 calculated values\n",
      "35000 calculated values\n",
      "36968 calculated values\n"
     ]
    }
   ],
   "source": [
    "max_values = 10\n",
    "num_rows = similarity_matrix_sparse.shape[0]\n",
    "\n",
    "top_index = []\n",
    "top_values = []\n",
    "\n",
    "for index in range(num_rows):\n",
    "    if index%5000 == 0 and index !=0: print(f'{index} calculated values')\n",
    "    if index+1 == num_rows: print(f'{index} calculated values')\n",
    "    perfume_search = similarity_matrix_sparse.getrow(index)\n",
    "    top_similarity = np.argsort(perfume_search.data)[-max_values:][::-1]\n",
    "    top_index.append(perfume_search.indices[top_similarity])\n",
    "    top_values.append(perfume_search.data[top_similarity])"
   ]
  },
  {
   "cell_type": "markdown",
   "id": "926721d6",
   "metadata": {},
   "source": [
    "## App"
   ]
  },
  {
   "cell_type": "code",
   "execution_count": 28,
   "id": "64713f50",
   "metadata": {
    "ExecuteTime": {
     "end_time": "2023-08-07T20:20:02.784905Z",
     "start_time": "2023-08-07T20:19:50.439885Z"
    }
   },
   "outputs": [],
   "source": [
    "import gradio as gr\n",
    "from gradio.components import Dropdown, Textbox"
   ]
  },
  {
   "cell_type": "code",
   "execution_count": 29,
   "id": "59aab0b3",
   "metadata": {
    "ExecuteTime": {
     "end_time": "2023-08-07T20:20:05.744091Z",
     "start_time": "2023-08-07T20:20:05.240095Z"
    }
   },
   "outputs": [
    {
     "name": "stdout",
     "output_type": "stream",
     "text": [
      "Running on local URL:  http://127.0.0.1:7860\n",
      "\n",
      "To create a public link, set `share=True` in `launch()`.\n"
     ]
    },
    {
     "data": {
      "text/html": [
       "<div><iframe src=\"http://127.0.0.1:7860/\" width=\"100%\" height=\"500\" allow=\"autoplay; camera; microphone; clipboard-read; clipboard-write;\" frameborder=\"0\" allowfullscreen></iframe></div>"
      ],
      "text/plain": [
       "<IPython.core.display.HTML object>"
      ]
     },
     "metadata": {},
     "output_type": "display_data"
    }
   ],
   "source": [
    "def rs_change(rs):\n",
    "    homeworks={}\n",
    "    homeworks[rs] = df[df['brand']==rs]['perfume'].to_list()\n",
    "    return gr.Dropdown.update(choices=homeworks[rs])\n",
    "\n",
    "def test():\n",
    "    pass\n",
    "\n",
    "def webui():\n",
    "    inputs = [\n",
    "        gr.Dropdown(choices=list(df['brand'].unique()), label=\"Brand\"),\n",
    "        gr.Dropdown(choices=[], label=\"Perfume\"),\n",
    "        ]\n",
    "\n",
    "    with gr.Blocks() as app:\n",
    "        gr.Interface(\n",
    "            fn=test,\n",
    "            inputs=inputs,\n",
    "            outputs=None\n",
    "        )\n",
    "\n",
    "        inputs[0].select(fn=rs_change, inputs=inputs[0], outputs=inputs[1])\n",
    "\n",
    "    app.launch()\n",
    "\n",
    "webui()"
   ]
  },
  {
   "cell_type": "code",
   "execution_count": 43,
   "id": "7ac38d53",
   "metadata": {
    "ExecuteTime": {
     "end_time": "2023-08-07T20:30:26.489775Z",
     "start_time": "2023-08-07T20:30:26.375886Z"
    }
   },
   "outputs": [
    {
     "name": "stdout",
     "output_type": "stream",
     "text": [
      "Running on local URL:  http://127.0.0.1:7867\n",
      "\n",
      "To create a public link, set `share=True` in `launch()`.\n"
     ]
    },
    {
     "data": {
      "text/html": [
       "<div><iframe src=\"http://127.0.0.1:7867/\" width=\"100%\" height=\"500\" allow=\"autoplay; camera; microphone; clipboard-read; clipboard-write;\" frameborder=\"0\" allowfullscreen></iframe></div>"
      ],
      "text/plain": [
       "<IPython.core.display.HTML object>"
      ]
     },
     "metadata": {},
     "output_type": "display_data"
    },
    {
     "data": {
      "text/plain": []
     },
     "execution_count": 43,
     "metadata": {},
     "output_type": "execute_result"
    }
   ],
   "source": [
    "import gradio as gr\n",
    "import pandas as pd\n",
    "\n",
    "# Suponha que você já tenha o DataFrame carregado como 'df'\n",
    "# Exemplo:\n",
    "# df = pd.DataFrame({\n",
    "#     'Marca': ['Ford', 'Toyota', 'Chevrolet'],\n",
    "#     'Carro': ['Focus', 'Corolla', 'Onix'],\n",
    "#     'Valor': [50000, 60000, 45000]\n",
    "# })\n",
    "\n",
    "# Função para filtrar o DataFrame com base na marca e/ou carro\n",
    "def filter_dataframe(marca, carro):\n",
    "    filtered_df = df\n",
    "    if marca != \"Todas\":\n",
    "        filtered_df = filtered_df[filtered_df['Marca'] == marca]\n",
    "    if carro != \"Todos\":\n",
    "        filtered_df = filtered_df[filtered_df['Carro'] == carro]\n",
    "    return filtered_df['Valor'].values[0] if not filtered_df.empty else 'Não encontrado'\n",
    "\n",
    "# Interface do Gradio\n",
    "marca_dropdown = gr.inputs.Dropdown([\"Todas\"] + list(df['Marca'].unique()), label=\"Marca\")\n",
    "carro_dropdown = gr.inputs.Dropdown([\"Todos\"] + list(df['Carro'].unique()), label=\"Carro\")\n",
    "iface = gr.Interface(\n",
    "    fn=filter_dataframe,  # Função a ser chamada\n",
    "    inputs=[marca_dropdown, carro_dropdown],\n",
    "    outputs=gr.outputs.Textbox(label=\"Valor\")\n",
    ")\n",
    "\n",
    "# Executar a interface\n",
    "iface.launch()\n"
   ]
  },
  {
   "cell_type": "code",
   "execution_count": 44,
   "id": "a9f7f4ae",
   "metadata": {
    "ExecuteTime": {
     "end_time": "2023-08-07T20:33:54.970785Z",
     "start_time": "2023-08-07T20:33:54.801366Z"
    }
   },
   "outputs": [
    {
     "name": "stdout",
     "output_type": "stream",
     "text": [
      "Running on local URL:  http://127.0.0.1:7868\n",
      "\n",
      "To create a public link, set `share=True` in `launch()`.\n"
     ]
    },
    {
     "data": {
      "text/html": [
       "<div><iframe src=\"http://127.0.0.1:7868/\" width=\"100%\" height=\"500\" allow=\"autoplay; camera; microphone; clipboard-read; clipboard-write;\" frameborder=\"0\" allowfullscreen></iframe></div>"
      ],
      "text/plain": [
       "<IPython.core.display.HTML object>"
      ]
     },
     "metadata": {},
     "output_type": "display_data"
    },
    {
     "data": {
      "text/plain": []
     },
     "execution_count": 44,
     "metadata": {},
     "output_type": "execute_result"
    }
   ],
   "source": [
    "def filter_records(records, gender):\n",
    "    return records[records[\"gender\"] == gender]\n",
    "\n",
    "\n",
    "demo = gr.Interface(\n",
    "    filter_records,\n",
    "    [\n",
    "        gr.Dataframe(\n",
    "            headers=[\"name\", \"age\", \"gender\"],\n",
    "            datatype=[\"str\", \"number\", \"str\"],\n",
    "            row_count=5,\n",
    "            col_count=(3, \"fixed\"),\n",
    "        ),\n",
    "        gr.Dropdown([\"M\", \"F\", \"O\"]),\n",
    "    ],\n",
    "    \"dataframe\",\n",
    "    description=\"Enter gender as 'M', 'F', or 'O' for other.\",\n",
    ")\n",
    "\n",
    "demo.launch()"
   ]
  },
  {
   "cell_type": "code",
   "execution_count": 45,
   "id": "325e20d2",
   "metadata": {
    "ExecuteTime": {
     "end_time": "2023-08-07T20:35:46.026834Z",
     "start_time": "2023-08-07T20:35:45.920803Z"
    }
   },
   "outputs": [
    {
     "ename": "KeyError",
     "evalue": "'Modelo'",
     "output_type": "error",
     "traceback": [
      "\u001b[1;31m---------------------------------------------------------------------------\u001b[0m",
      "\u001b[1;31mKeyError\u001b[0m                                  Traceback (most recent call last)",
      "File \u001b[1;32m~\\AppData\\Local\\anaconda3\\lib\\site-packages\\pandas\\core\\indexes\\base.py:3802\u001b[0m, in \u001b[0;36mIndex.get_loc\u001b[1;34m(self, key, method, tolerance)\u001b[0m\n\u001b[0;32m   3801\u001b[0m \u001b[38;5;28;01mtry\u001b[39;00m:\n\u001b[1;32m-> 3802\u001b[0m     \u001b[38;5;28;01mreturn\u001b[39;00m \u001b[38;5;28;43mself\u001b[39;49m\u001b[38;5;241;43m.\u001b[39;49m\u001b[43m_engine\u001b[49m\u001b[38;5;241;43m.\u001b[39;49m\u001b[43mget_loc\u001b[49m\u001b[43m(\u001b[49m\u001b[43mcasted_key\u001b[49m\u001b[43m)\u001b[49m\n\u001b[0;32m   3803\u001b[0m \u001b[38;5;28;01mexcept\u001b[39;00m \u001b[38;5;167;01mKeyError\u001b[39;00m \u001b[38;5;28;01mas\u001b[39;00m err:\n",
      "File \u001b[1;32m~\\AppData\\Local\\anaconda3\\lib\\site-packages\\pandas\\_libs\\index.pyx:138\u001b[0m, in \u001b[0;36mpandas._libs.index.IndexEngine.get_loc\u001b[1;34m()\u001b[0m\n",
      "File \u001b[1;32m~\\AppData\\Local\\anaconda3\\lib\\site-packages\\pandas\\_libs\\index.pyx:165\u001b[0m, in \u001b[0;36mpandas._libs.index.IndexEngine.get_loc\u001b[1;34m()\u001b[0m\n",
      "File \u001b[1;32mpandas\\_libs\\hashtable_class_helper.pxi:5745\u001b[0m, in \u001b[0;36mpandas._libs.hashtable.PyObjectHashTable.get_item\u001b[1;34m()\u001b[0m\n",
      "File \u001b[1;32mpandas\\_libs\\hashtable_class_helper.pxi:5753\u001b[0m, in \u001b[0;36mpandas._libs.hashtable.PyObjectHashTable.get_item\u001b[1;34m()\u001b[0m\n",
      "\u001b[1;31mKeyError\u001b[0m: 'Modelo'",
      "\nThe above exception was the direct cause of the following exception:\n",
      "\u001b[1;31mKeyError\u001b[0m                                  Traceback (most recent call last)",
      "Cell \u001b[1;32mIn[45], line 22\u001b[0m\n\u001b[0;32m     20\u001b[0m \u001b[38;5;66;03m# Interface do Gradio\u001b[39;00m\n\u001b[0;32m     21\u001b[0m marca_dropdown \u001b[38;5;241m=\u001b[39m gr\u001b[38;5;241m.\u001b[39minputs\u001b[38;5;241m.\u001b[39mDropdown([\u001b[38;5;124m\"\u001b[39m\u001b[38;5;124mTodas\u001b[39m\u001b[38;5;124m\"\u001b[39m] \u001b[38;5;241m+\u001b[39m \u001b[38;5;28mlist\u001b[39m(df[\u001b[38;5;124m'\u001b[39m\u001b[38;5;124mMarca\u001b[39m\u001b[38;5;124m'\u001b[39m]\u001b[38;5;241m.\u001b[39munique()), label\u001b[38;5;241m=\u001b[39m\u001b[38;5;124m\"\u001b[39m\u001b[38;5;124mMarca\u001b[39m\u001b[38;5;124m\"\u001b[39m)\n\u001b[1;32m---> 22\u001b[0m modelo_dropdown \u001b[38;5;241m=\u001b[39m gr\u001b[38;5;241m.\u001b[39minputs\u001b[38;5;241m.\u001b[39mDropdown([\u001b[38;5;124m\"\u001b[39m\u001b[38;5;124mTodos\u001b[39m\u001b[38;5;124m\"\u001b[39m] \u001b[38;5;241m+\u001b[39m \u001b[38;5;28mlist\u001b[39m(\u001b[43mdf\u001b[49m\u001b[43m[\u001b[49m\u001b[38;5;124;43m'\u001b[39;49m\u001b[38;5;124;43mModelo\u001b[39;49m\u001b[38;5;124;43m'\u001b[39;49m\u001b[43m]\u001b[49m\u001b[38;5;241m.\u001b[39munique()), label\u001b[38;5;241m=\u001b[39m\u001b[38;5;124m\"\u001b[39m\u001b[38;5;124mModelo\u001b[39m\u001b[38;5;124m\"\u001b[39m)\n\u001b[0;32m     23\u001b[0m iface \u001b[38;5;241m=\u001b[39m gr\u001b[38;5;241m.\u001b[39mInterface(\n\u001b[0;32m     24\u001b[0m     fn\u001b[38;5;241m=\u001b[39mfilter_dataframe,  \u001b[38;5;66;03m# Função a ser chamada\u001b[39;00m\n\u001b[0;32m     25\u001b[0m     inputs\u001b[38;5;241m=\u001b[39m[marca_dropdown, modelo_dropdown],\n\u001b[0;32m     26\u001b[0m     outputs\u001b[38;5;241m=\u001b[39mgr\u001b[38;5;241m.\u001b[39moutputs\u001b[38;5;241m.\u001b[39mTextbox(label\u001b[38;5;241m=\u001b[39m\u001b[38;5;124m\"\u001b[39m\u001b[38;5;124mPreços Filtrados\u001b[39m\u001b[38;5;124m\"\u001b[39m)\n\u001b[0;32m     27\u001b[0m )\n\u001b[0;32m     29\u001b[0m \u001b[38;5;66;03m# Executar a interface\u001b[39;00m\n",
      "File \u001b[1;32m~\\AppData\\Local\\anaconda3\\lib\\site-packages\\pandas\\core\\frame.py:3807\u001b[0m, in \u001b[0;36mDataFrame.__getitem__\u001b[1;34m(self, key)\u001b[0m\n\u001b[0;32m   3805\u001b[0m \u001b[38;5;28;01mif\u001b[39;00m \u001b[38;5;28mself\u001b[39m\u001b[38;5;241m.\u001b[39mcolumns\u001b[38;5;241m.\u001b[39mnlevels \u001b[38;5;241m>\u001b[39m \u001b[38;5;241m1\u001b[39m:\n\u001b[0;32m   3806\u001b[0m     \u001b[38;5;28;01mreturn\u001b[39;00m \u001b[38;5;28mself\u001b[39m\u001b[38;5;241m.\u001b[39m_getitem_multilevel(key)\n\u001b[1;32m-> 3807\u001b[0m indexer \u001b[38;5;241m=\u001b[39m \u001b[38;5;28;43mself\u001b[39;49m\u001b[38;5;241;43m.\u001b[39;49m\u001b[43mcolumns\u001b[49m\u001b[38;5;241;43m.\u001b[39;49m\u001b[43mget_loc\u001b[49m\u001b[43m(\u001b[49m\u001b[43mkey\u001b[49m\u001b[43m)\u001b[49m\n\u001b[0;32m   3808\u001b[0m \u001b[38;5;28;01mif\u001b[39;00m is_integer(indexer):\n\u001b[0;32m   3809\u001b[0m     indexer \u001b[38;5;241m=\u001b[39m [indexer]\n",
      "File \u001b[1;32m~\\AppData\\Local\\anaconda3\\lib\\site-packages\\pandas\\core\\indexes\\base.py:3804\u001b[0m, in \u001b[0;36mIndex.get_loc\u001b[1;34m(self, key, method, tolerance)\u001b[0m\n\u001b[0;32m   3802\u001b[0m     \u001b[38;5;28;01mreturn\u001b[39;00m \u001b[38;5;28mself\u001b[39m\u001b[38;5;241m.\u001b[39m_engine\u001b[38;5;241m.\u001b[39mget_loc(casted_key)\n\u001b[0;32m   3803\u001b[0m \u001b[38;5;28;01mexcept\u001b[39;00m \u001b[38;5;167;01mKeyError\u001b[39;00m \u001b[38;5;28;01mas\u001b[39;00m err:\n\u001b[1;32m-> 3804\u001b[0m     \u001b[38;5;28;01mraise\u001b[39;00m \u001b[38;5;167;01mKeyError\u001b[39;00m(key) \u001b[38;5;28;01mfrom\u001b[39;00m \u001b[38;5;21;01merr\u001b[39;00m\n\u001b[0;32m   3805\u001b[0m \u001b[38;5;28;01mexcept\u001b[39;00m \u001b[38;5;167;01mTypeError\u001b[39;00m:\n\u001b[0;32m   3806\u001b[0m     \u001b[38;5;66;03m# If we have a listlike key, _check_indexing_error will raise\u001b[39;00m\n\u001b[0;32m   3807\u001b[0m     \u001b[38;5;66;03m#  InvalidIndexError. Otherwise we fall through and re-raise\u001b[39;00m\n\u001b[0;32m   3808\u001b[0m     \u001b[38;5;66;03m#  the TypeError.\u001b[39;00m\n\u001b[0;32m   3809\u001b[0m     \u001b[38;5;28mself\u001b[39m\u001b[38;5;241m.\u001b[39m_check_indexing_error(key)\n",
      "\u001b[1;31mKeyError\u001b[0m: 'Modelo'"
     ]
    }
   ],
   "source": [
    "import gradio as gr\n",
    "import pandas as pd\n",
    "\n",
    "# Suponha que você já tenha o DataFrame carregado como 'df'\n",
    "# Exemplo:\n",
    " df = pd.DataFrame({\n",
    "     'Marca': ['Ford', 'Toyota', 'Chevrolet'],\n",
    "     'Modelo': ['Focus', 'Corolla', 'Onix'],\n",
    "     'Preço': [50000, 60000, 45000]\n",
    " })\n",
    "\n",
    "def filter_dataframe(marca, modelo):\n",
    "    filtered_df = df\n",
    "    if marca != \"Todas\":\n",
    "        filtered_df = filtered_df[filtered_df['Marca'] == marca]\n",
    "    if modelo != \"Todos\":\n",
    "        filtered_df = filtered_df[filtered_df['Modelo'] == modelo]\n",
    "    return filtered_df['Preço'].tolist()\n",
    "\n",
    "# Interface do Gradio\n",
    "marca_dropdown = gr.inputs.Dropdown([\"Todas\"] + list(df['Marca'].unique()), label=\"Marca\")\n",
    "modelo_dropdown = gr.inputs.Dropdown([\"Todos\"] + list(df['Modelo'].unique()), label=\"Modelo\")\n",
    "iface = gr.Interface(\n",
    "    fn=filter_dataframe,  # Função a ser chamada\n",
    "    inputs=[marca_dropdown, modelo_dropdown],\n",
    "    outputs=gr.outputs.Textbox(label=\"Preços Filtrados\")\n",
    ")\n",
    "\n",
    "# Executar a interface\n",
    "iface.launch()\n"
   ]
  },
  {
   "cell_type": "code",
   "execution_count": null,
   "id": "e8bed845",
   "metadata": {},
   "outputs": [],
   "source": []
  }
 ],
 "metadata": {
  "kernelspec": {
   "display_name": "Python 3 (ipykernel)",
   "language": "python",
   "name": "python3"
  },
  "language_info": {
   "codemirror_mode": {
    "name": "ipython",
    "version": 3
   },
   "file_extension": ".py",
   "mimetype": "text/x-python",
   "name": "python",
   "nbconvert_exporter": "python",
   "pygments_lexer": "ipython3",
   "version": "3.10.9"
  },
  "toc": {
   "base_numbering": 1,
   "nav_menu": {},
   "number_sections": true,
   "sideBar": true,
   "skip_h1_title": false,
   "title_cell": "Table of Contents",
   "title_sidebar": "Contents",
   "toc_cell": false,
   "toc_position": {
    "height": "calc(100% - 180px)",
    "left": "10px",
    "top": "150px",
    "width": "384px"
   },
   "toc_section_display": true,
   "toc_window_display": true
  },
  "varInspector": {
   "cols": {
    "lenName": 16,
    "lenType": 16,
    "lenVar": 40
   },
   "kernels_config": {
    "python": {
     "delete_cmd_postfix": "",
     "delete_cmd_prefix": "del ",
     "library": "var_list.py",
     "varRefreshCmd": "print(var_dic_list())"
    },
    "r": {
     "delete_cmd_postfix": ") ",
     "delete_cmd_prefix": "rm(",
     "library": "var_list.r",
     "varRefreshCmd": "cat(var_dic_list()) "
    }
   },
   "types_to_exclude": [
    "module",
    "function",
    "builtin_function_or_method",
    "instance",
    "_Feature"
   ],
   "window_display": false
  }
 },
 "nbformat": 4,
 "nbformat_minor": 5
}
