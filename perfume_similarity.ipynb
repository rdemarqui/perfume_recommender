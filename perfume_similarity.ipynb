{
 "cells": [
  {
   "cell_type": "markdown",
   "id": "c0dc711f",
   "metadata": {},
   "source": [
    "# Perfume Similarity"
   ]
  },
  {
   "cell_type": "code",
   "execution_count": 1,
   "id": "8401d09d",
   "metadata": {
    "ExecuteTime": {
     "end_time": "2023-08-16T14:30:23.942962Z",
     "start_time": "2023-08-16T14:30:23.003000Z"
    }
   },
   "outputs": [],
   "source": [
    "import pandas as pd\n",
    "import numpy as np"
   ]
  },
  {
   "cell_type": "code",
   "execution_count": 2,
   "id": "d3a4ada6",
   "metadata": {
    "ExecuteTime": {
     "end_time": "2023-08-16T14:30:23.957679Z",
     "start_time": "2023-08-16T14:30:23.942962Z"
    }
   },
   "outputs": [],
   "source": [
    "pd.set_option('display.max_colwidth', None)\n",
    "import warnings\n",
    "warnings.simplefilter(\"ignore\", category=Warning)"
   ]
  },
  {
   "cell_type": "markdown",
   "id": "8fc8f1f1",
   "metadata": {
    "ExecuteTime": {
     "end_time": "2023-08-02T20:31:20.127515Z",
     "start_time": "2023-08-02T20:31:20.119755Z"
    }
   },
   "source": [
    "## Open Data"
   ]
  },
  {
   "cell_type": "code",
   "execution_count": 3,
   "id": "841f24c7",
   "metadata": {
    "ExecuteTime": {
     "end_time": "2023-08-16T14:30:31.194139Z",
     "start_time": "2023-08-16T14:30:23.959800Z"
    }
   },
   "outputs": [],
   "source": [
    "df = pd.read_excel('database\\perfume_database.xlsx', \n",
    "                   usecols=['brand', 'perfume', 'notes'])"
   ]
  },
  {
   "cell_type": "code",
   "execution_count": 4,
   "id": "7d4621f7",
   "metadata": {
    "ExecuteTime": {
     "end_time": "2023-08-16T14:30:31.318986Z",
     "start_time": "2023-08-16T14:30:31.200866Z"
    }
   },
   "outputs": [
    {
     "data": {
      "text/html": [
       "<div>\n",
       "<style scoped>\n",
       "    .dataframe tbody tr th:only-of-type {\n",
       "        vertical-align: middle;\n",
       "    }\n",
       "\n",
       "    .dataframe tbody tr th {\n",
       "        vertical-align: top;\n",
       "    }\n",
       "\n",
       "    .dataframe thead th {\n",
       "        text-align: right;\n",
       "    }\n",
       "</style>\n",
       "<table border=\"1\" class=\"dataframe\">\n",
       "  <thead>\n",
       "    <tr style=\"text-align: right;\">\n",
       "      <th></th>\n",
       "      <th>brand</th>\n",
       "      <th>perfume</th>\n",
       "      <th>notes</th>\n",
       "    </tr>\n",
       "  </thead>\n",
       "  <tbody>\n",
       "    <tr>\n",
       "      <th>0</th>\n",
       "      <td>18 21 Man Made</td>\n",
       "      <td>Sweet Tobacco Spirits</td>\n",
       "      <td>[\"Citruses\", \"Saffron\", \"Tonka Bean\", \"Vanilla\", \"Exotic Fruits\", \"Red wine\", \"Musk\", \"Woodsy Notes\"]</td>\n",
       "    </tr>\n",
       "    <tr>\n",
       "      <th>1</th>\n",
       "      <td>40 Notes Perfume</td>\n",
       "      <td>Cashmere Musk</td>\n",
       "      <td>[\"Sandalwood\", \"Cedar\", \"White Musk\", \"Cashmere Wood\"]</td>\n",
       "    </tr>\n",
       "    <tr>\n",
       "      <th>2</th>\n",
       "      <td>40 Notes Perfume</td>\n",
       "      <td>Exotic Ylang Ylang</td>\n",
       "      <td>[\"Ylang-Ylang\", \"Gardenia\", \"Musk\"]</td>\n",
       "    </tr>\n",
       "    <tr>\n",
       "      <th>3</th>\n",
       "      <td>40 Notes Perfume</td>\n",
       "      <td>Exquisite Amber</td>\n",
       "      <td>[\"Labdanum\", \"Styrax\", \"Benzoin\", \"Vanilla\", \"Musk\"]</td>\n",
       "    </tr>\n",
       "    <tr>\n",
       "      <th>4</th>\n",
       "      <td>40 Notes Perfume</td>\n",
       "      <td>Oudwood Veil</td>\n",
       "      <td>[\"Kephalis\", \"Agarwood (Oud)\"]</td>\n",
       "    </tr>\n",
       "    <tr>\n",
       "      <th>...</th>\n",
       "      <td>...</td>\n",
       "      <td>...</td>\n",
       "      <td>...</td>\n",
       "    </tr>\n",
       "    <tr>\n",
       "      <th>36964</th>\n",
       "      <td>Urban Rituelle</td>\n",
       "      <td>Lemongrass Blend</td>\n",
       "      <td>[\"Lemongrass\", \"Myrtle\", \"Grapefruit\", \"Eucalyptus\"]</td>\n",
       "    </tr>\n",
       "    <tr>\n",
       "      <th>36965</th>\n",
       "      <td>Urban Rituelle</td>\n",
       "      <td>Peach Blossom</td>\n",
       "      <td>[\"Peach\", \"Honey\", \"Sweet Pea\", \"Mimosa\"]</td>\n",
       "    </tr>\n",
       "    <tr>\n",
       "      <th>36966</th>\n",
       "      <td>Urban Rituelle</td>\n",
       "      <td>Pomegranate</td>\n",
       "      <td>[\"Pomegranate\", \"Citruses\", \"Red Berries\"]</td>\n",
       "    </tr>\n",
       "    <tr>\n",
       "      <th>36967</th>\n",
       "      <td>Urban Rituelle</td>\n",
       "      <td>Vanilla</td>\n",
       "      <td>[\"Vanilla\", \"Caramel\", \"Milk\"]</td>\n",
       "    </tr>\n",
       "    <tr>\n",
       "      <th>36968</th>\n",
       "      <td>Urban Rituelle</td>\n",
       "      <td>Vanilla Blend</td>\n",
       "      <td>[\"Vanilla\", \"Lavender\", \"Geranium\"]</td>\n",
       "    </tr>\n",
       "  </tbody>\n",
       "</table>\n",
       "<p>36969 rows × 3 columns</p>\n",
       "</div>"
      ],
      "text/plain": [
       "                  brand                perfume  \\\n",
       "0        18 21 Man Made  Sweet Tobacco Spirits   \n",
       "1      40 Notes Perfume          Cashmere Musk   \n",
       "2      40 Notes Perfume     Exotic Ylang Ylang   \n",
       "3      40 Notes Perfume        Exquisite Amber   \n",
       "4      40 Notes Perfume           Oudwood Veil   \n",
       "...                 ...                    ...   \n",
       "36964    Urban Rituelle       Lemongrass Blend   \n",
       "36965    Urban Rituelle          Peach Blossom   \n",
       "36966    Urban Rituelle            Pomegranate   \n",
       "36967    Urban Rituelle                Vanilla   \n",
       "36968    Urban Rituelle          Vanilla Blend   \n",
       "\n",
       "                                                                                                       notes  \n",
       "0      [\"Citruses\", \"Saffron\", \"Tonka Bean\", \"Vanilla\", \"Exotic Fruits\", \"Red wine\", \"Musk\", \"Woodsy Notes\"]  \n",
       "1                                                     [\"Sandalwood\", \"Cedar\", \"White Musk\", \"Cashmere Wood\"]  \n",
       "2                                                                        [\"Ylang-Ylang\", \"Gardenia\", \"Musk\"]  \n",
       "3                                                       [\"Labdanum\", \"Styrax\", \"Benzoin\", \"Vanilla\", \"Musk\"]  \n",
       "4                                                                             [\"Kephalis\", \"Agarwood (Oud)\"]  \n",
       "...                                                                                                      ...  \n",
       "36964                                                   [\"Lemongrass\", \"Myrtle\", \"Grapefruit\", \"Eucalyptus\"]  \n",
       "36965                                                              [\"Peach\", \"Honey\", \"Sweet Pea\", \"Mimosa\"]  \n",
       "36966                                                             [\"Pomegranate\", \"Citruses\", \"Red Berries\"]  \n",
       "36967                                                                         [\"Vanilla\", \"Caramel\", \"Milk\"]  \n",
       "36968                                                                    [\"Vanilla\", \"Lavender\", \"Geranium\"]  \n",
       "\n",
       "[36969 rows x 3 columns]"
      ]
     },
     "execution_count": 4,
     "metadata": {},
     "output_type": "execute_result"
    }
   ],
   "source": [
    "df = df[df['notes'].notna()]\n",
    "df.reset_index(inplace=True, drop=True)\n",
    "df"
   ]
  },
  {
   "cell_type": "markdown",
   "id": "2bad67ef",
   "metadata": {},
   "source": [
    "## Clean Data"
   ]
  },
  {
   "cell_type": "code",
   "execution_count": 5,
   "id": "40d494b0",
   "metadata": {
    "ExecuteTime": {
     "end_time": "2023-08-16T14:30:31.334929Z",
     "start_time": "2023-08-16T14:30:31.320905Z"
    }
   },
   "outputs": [],
   "source": [
    "corpus = pd.DataFrame(df['notes'])"
   ]
  },
  {
   "cell_type": "code",
   "execution_count": 6,
   "id": "a2d013ae",
   "metadata": {
    "ExecuteTime": {
     "end_time": "2023-08-16T14:30:31.395999Z",
     "start_time": "2023-08-16T14:30:31.341961Z"
    }
   },
   "outputs": [],
   "source": [
    "itens_to_remove = [\n",
    "    '[', ']', '\"', '{', '}',\n",
    "    'middle: ', 'top: ', 'base: ', 'null'\n",
    "]\n",
    "def remove_items(text):\n",
    "    for item in itens_to_remove:\n",
    "        text = text.replace(item, \"\")\n",
    "    return text"
   ]
  },
  {
   "cell_type": "code",
   "execution_count": 7,
   "id": "96e91f6b",
   "metadata": {
    "ExecuteTime": {
     "end_time": "2023-08-16T14:30:31.645556Z",
     "start_time": "2023-08-16T14:30:31.398073Z"
    }
   },
   "outputs": [],
   "source": [
    "# Cleaning text\n",
    "corpus['notes'] = corpus['notes'].astype(str)\n",
    "corpus['notes'] = corpus['notes'].str.lower()\n",
    "corpus['notes'] = corpus['notes'].apply(remove_items)"
   ]
  },
  {
   "cell_type": "code",
   "execution_count": 8,
   "id": "61f3ca30",
   "metadata": {
    "ExecuteTime": {
     "end_time": "2023-08-16T14:30:31.675969Z",
     "start_time": "2023-08-16T14:30:31.649620Z"
    }
   },
   "outputs": [
    {
     "data": {
      "text/html": [
       "<div>\n",
       "<style scoped>\n",
       "    .dataframe tbody tr th:only-of-type {\n",
       "        vertical-align: middle;\n",
       "    }\n",
       "\n",
       "    .dataframe tbody tr th {\n",
       "        vertical-align: top;\n",
       "    }\n",
       "\n",
       "    .dataframe thead th {\n",
       "        text-align: right;\n",
       "    }\n",
       "</style>\n",
       "<table border=\"1\" class=\"dataframe\">\n",
       "  <thead>\n",
       "    <tr style=\"text-align: right;\">\n",
       "      <th></th>\n",
       "      <th>brand</th>\n",
       "      <th>perfume</th>\n",
       "      <th>notes</th>\n",
       "    </tr>\n",
       "  </thead>\n",
       "  <tbody>\n",
       "    <tr>\n",
       "      <th>0</th>\n",
       "      <td>18 21 Man Made</td>\n",
       "      <td>Sweet Tobacco Spirits</td>\n",
       "      <td>citruses, saffron, tonka bean, vanilla, exotic fruits, red wine, musk, woodsy notes</td>\n",
       "    </tr>\n",
       "    <tr>\n",
       "      <th>1</th>\n",
       "      <td>40 Notes Perfume</td>\n",
       "      <td>Cashmere Musk</td>\n",
       "      <td>sandalwood, cedar, white musk, cashmere wood</td>\n",
       "    </tr>\n",
       "    <tr>\n",
       "      <th>2</th>\n",
       "      <td>40 Notes Perfume</td>\n",
       "      <td>Exotic Ylang Ylang</td>\n",
       "      <td>ylang-ylang, gardenia, musk</td>\n",
       "    </tr>\n",
       "    <tr>\n",
       "      <th>3</th>\n",
       "      <td>40 Notes Perfume</td>\n",
       "      <td>Exquisite Amber</td>\n",
       "      <td>labdanum, styrax, benzoin, vanilla, musk</td>\n",
       "    </tr>\n",
       "    <tr>\n",
       "      <th>4</th>\n",
       "      <td>40 Notes Perfume</td>\n",
       "      <td>Oudwood Veil</td>\n",
       "      <td>kephalis, agarwood (oud)</td>\n",
       "    </tr>\n",
       "  </tbody>\n",
       "</table>\n",
       "</div>"
      ],
      "text/plain": [
       "              brand                perfume  \\\n",
       "0    18 21 Man Made  Sweet Tobacco Spirits   \n",
       "1  40 Notes Perfume          Cashmere Musk   \n",
       "2  40 Notes Perfume     Exotic Ylang Ylang   \n",
       "3  40 Notes Perfume        Exquisite Amber   \n",
       "4  40 Notes Perfume           Oudwood Veil   \n",
       "\n",
       "                                                                                 notes  \n",
       "0  citruses, saffron, tonka bean, vanilla, exotic fruits, red wine, musk, woodsy notes  \n",
       "1                                         sandalwood, cedar, white musk, cashmere wood  \n",
       "2                                                          ylang-ylang, gardenia, musk  \n",
       "3                                             labdanum, styrax, benzoin, vanilla, musk  \n",
       "4                                                             kephalis, agarwood (oud)  "
      ]
     },
     "execution_count": 8,
     "metadata": {},
     "output_type": "execute_result"
    }
   ],
   "source": [
    "df['notes'] = corpus['notes']\n",
    "df.head()"
   ]
  },
  {
   "cell_type": "code",
   "execution_count": 9,
   "id": "ad4a52c7",
   "metadata": {
    "ExecuteTime": {
     "end_time": "2023-08-16T14:30:35.545481Z",
     "start_time": "2023-08-16T14:30:31.678888Z"
    }
   },
   "outputs": [],
   "source": [
    "df.to_excel('database\\perfume_database_cleaned.xlsx', index=False)"
   ]
  },
  {
   "cell_type": "markdown",
   "id": "15443d9f",
   "metadata": {},
   "source": [
    "## Vectorize Data"
   ]
  },
  {
   "cell_type": "code",
   "execution_count": 10,
   "id": "20cbf46d",
   "metadata": {
    "ExecuteTime": {
     "end_time": "2023-08-16T14:30:41.442450Z",
     "start_time": "2023-08-16T14:30:35.550362Z"
    }
   },
   "outputs": [],
   "source": [
    "from sklearn.feature_extraction.text import CountVectorizer"
   ]
  },
  {
   "cell_type": "code",
   "execution_count": 11,
   "id": "1c7f63ed",
   "metadata": {
    "ExecuteTime": {
     "end_time": "2023-08-16T14:30:41.467852Z",
     "start_time": "2023-08-16T14:30:41.446320Z"
    }
   },
   "outputs": [],
   "source": [
    "def custom_tokenizer(text):\n",
    "    return text.split(',')"
   ]
  },
  {
   "cell_type": "code",
   "execution_count": 12,
   "id": "a14fc7b3",
   "metadata": {
    "ExecuteTime": {
     "end_time": "2023-08-16T14:30:41.499765Z",
     "start_time": "2023-08-16T14:30:41.470886Z"
    }
   },
   "outputs": [],
   "source": [
    "count_vectorizer = CountVectorizer(tokenizer=custom_tokenizer)"
   ]
  },
  {
   "cell_type": "code",
   "execution_count": 13,
   "id": "2a79c44b",
   "metadata": {
    "ExecuteTime": {
     "end_time": "2023-08-16T14:30:41.841911Z",
     "start_time": "2023-08-16T14:30:41.511917Z"
    }
   },
   "outputs": [],
   "source": [
    "bag_of_words = count_vectorizer.fit_transform(corpus.notes)"
   ]
  },
  {
   "cell_type": "code",
   "execution_count": 14,
   "id": "912f7c0e",
   "metadata": {
    "ExecuteTime": {
     "end_time": "2023-08-16T14:30:41.873509Z",
     "start_time": "2023-08-16T14:30:41.846928Z"
    }
   },
   "outputs": [
    {
     "data": {
      "text/plain": [
       "(36969, 2145)"
      ]
     },
     "execution_count": 14,
     "metadata": {},
     "output_type": "execute_result"
    }
   ],
   "source": [
    "bag_of_words.shape"
   ]
  },
  {
   "cell_type": "markdown",
   "id": "8cfdb48c",
   "metadata": {
    "ExecuteTime": {
     "end_time": "2023-08-02T20:19:51.569080Z",
     "start_time": "2023-08-02T20:19:51.559085Z"
    }
   },
   "source": [
    "## Calculate similarity"
   ]
  },
  {
   "cell_type": "code",
   "execution_count": 15,
   "id": "39106896",
   "metadata": {
    "ExecuteTime": {
     "end_time": "2023-08-16T14:30:42.338473Z",
     "start_time": "2023-08-16T14:30:41.875495Z"
    }
   },
   "outputs": [],
   "source": [
    "from sklearn.metrics.pairwise import cosine_similarity\n",
    "import scipy.sparse as sp\n",
    "import pickle, os, sys"
   ]
  },
  {
   "cell_type": "code",
   "execution_count": 16,
   "id": "264c64ed",
   "metadata": {
    "ExecuteTime": {
     "end_time": "2023-08-16T14:31:22.005217Z",
     "start_time": "2023-08-16T14:30:42.339480Z"
    }
   },
   "outputs": [],
   "source": [
    "similarity_matrix_sparse = cosine_similarity(bag_of_words, dense_output=False)"
   ]
  },
  {
   "cell_type": "code",
   "execution_count": 17,
   "id": "9eb5847e",
   "metadata": {
    "ExecuteTime": {
     "end_time": "2023-08-16T14:31:24.488708Z",
     "start_time": "2023-08-16T14:31:24.053705Z"
    }
   },
   "outputs": [
    {
     "data": {
      "text/plain": [
       "(36969, 36969)"
      ]
     },
     "execution_count": 17,
     "metadata": {},
     "output_type": "execute_result"
    }
   ],
   "source": [
    "similarity_matrix_sparse.shape"
   ]
  },
  {
   "cell_type": "code",
   "execution_count": 18,
   "id": "68d5a924",
   "metadata": {
    "ExecuteTime": {
     "end_time": "2023-08-16T14:33:02.958758Z",
     "start_time": "2023-08-16T14:31:24.500481Z"
    }
   },
   "outputs": [
    {
     "name": "stdout",
     "output_type": "stream",
     "text": [
      "5000 calculated perfumes\n",
      "10000 calculated perfumes\n",
      "15000 calculated perfumes\n",
      "20000 calculated perfumes\n",
      "25000 calculated perfumes\n",
      "30000 calculated perfumes\n",
      "35000 calculated perfumes\n",
      "36968 calculated perfumes\n"
     ]
    }
   ],
   "source": [
    "max_values = 6\n",
    "num_rows = similarity_matrix_sparse.shape[0]\n",
    "\n",
    "vect_index = []\n",
    "vect_values = []\n",
    "\n",
    "for index in range(num_rows):\n",
    "    if index%5000 == 0 and index !=0: print(f'{index} calculated perfumes')\n",
    "    if index+1 == num_rows: print(f'{index} calculated perfumes')\n",
    "    perfume_search = similarity_matrix_sparse.getrow(index)\n",
    "    top_similarity = np.argsort(perfume_search.data)[-max_values:][::-1]\n",
    "    vect_index.append(perfume_search.indices[top_similarity])\n",
    "    vect_values.append(perfume_search.data[top_similarity])"
   ]
  },
  {
   "cell_type": "code",
   "execution_count": 19,
   "id": "11fb493f",
   "metadata": {
    "ExecuteTime": {
     "end_time": "2023-08-16T14:33:03.621552Z",
     "start_time": "2023-08-16T14:33:03.018549Z"
    }
   },
   "outputs": [],
   "source": [
    "# Save vectors as pickle file\n",
    "with open(r'database\\vect_index.pickle', 'wb') as file:\n",
    "    pickle.dump(vect_index, file)\n",
    "with open(r'database\\vect_values.pickle', 'wb') as file:\n",
    "    pickle.dump(vect_values, file)"
   ]
  },
  {
   "cell_type": "markdown",
   "id": "926721d6",
   "metadata": {},
   "source": [
    "## App"
   ]
  },
  {
   "cell_type": "code",
   "execution_count": 22,
   "id": "9bfbb480",
   "metadata": {
    "ExecuteTime": {
     "end_time": "2023-08-16T14:34:03.574435Z",
     "start_time": "2023-08-16T14:33:57.022301Z"
    }
   },
   "outputs": [
    {
     "name": "stdout",
     "output_type": "stream",
     "text": [
      "Running on local URL:  http://127.0.0.1:7860\n",
      "\n",
      "To create a public link, set `share=True` in `launch()`.\n"
     ]
    },
    {
     "data": {
      "text/html": [
       "<div><iframe src=\"http://127.0.0.1:7860/\" width=\"100%\" height=\"500\" allow=\"autoplay; camera; microphone; clipboard-read; clipboard-write;\" frameborder=\"0\" allowfullscreen></iframe></div>"
      ],
      "text/plain": [
       "<IPython.core.display.HTML object>"
      ]
     },
     "metadata": {},
     "output_type": "display_data"
    },
    {
     "data": {
      "text/plain": []
     },
     "execution_count": 22,
     "metadata": {},
     "output_type": "execute_result"
    }
   ],
   "source": [
    "# App v3.0\n",
    "import gradio as gr\n",
    "\n",
    "with open(r'database\\vect_index.pickle', 'rb') as file:\n",
    "    vect_index = pickle.load(file)\n",
    "with open(r'database\\vect_values.pickle', 'rb') as file:\n",
    "    vect_values = pickle.load(file)\n",
    "    \n",
    "df = pd.read_excel('database\\perfume_database_cleaned.xlsx')\n",
    "brand_options = list(df['brand'].unique())\n",
    "perfume_options = list(df['perfume'].unique())\n",
    "\n",
    "def perfume_change(brand):\n",
    "    names = list(df.query(f\"brand=='{brand}'\")['perfume'])\n",
    "    return gr.update(choices=names, value=None)\n",
    "\n",
    "def filter_by_perfume(selected_brand, selected_perfume):\n",
    "    perfume_index = df.query(f\"brand=='{selected_brand}' & perfume=='{selected_perfume}'\").index[0]\n",
    "    df_filter = df.iloc[vect_index[perfume_index], :].reset_index(drop=True)\n",
    "    df_filter['similarity'] = vect_values[perfume_index]\n",
    "    df_filter['similarity'] = df_filter['similarity'].map(\"{:.2%}\".format)\n",
    "    df_filter['notes'] = df_filter['notes'].str.split(',').apply(sorted, 1).str.join(',').str.strip(',')\n",
    "    df_filter = df_filter[['brand', 'perfume', 'similarity', 'notes']]\n",
    "    return df_filter\n",
    "\n",
    "with gr.Blocks(theme='freddyaboulton/dracula_revamped') as demo:\n",
    "    gr.Markdown(\n",
    "    \"\"\"\n",
    "    # Perfume Recommendation\n",
    "    Select brand and perfume below to find top 5 most similar perfumes based on notes\n",
    "    \"\"\")\n",
    "    \n",
    "    with gr.Row():\n",
    "        brand_dropdown = gr.Dropdown(choices=brand_options, value='Hugo Boss', label=\"Brand\")\n",
    "        perfume_dropdown = gr.Dropdown(choices=perfume_options, value='Boss Soul', label=\"Perfume Name\")\n",
    "        brand_dropdown.change(fn=perfume_change, inputs=[brand_dropdown], outputs=[perfume_dropdown])\n",
    "        btn = gr.Button(value=\"Search\", scale=.1)\n",
    "        \n",
    "    with gr.Row():\n",
    "        output_df = gr.outputs.Dataframe(type='pandas')\n",
    "        btn.click(filter_by_perfume, inputs=[brand_dropdown, perfume_dropdown], outputs=[output_df])\n",
    "        \n",
    "demo.launch()"
   ]
  }
 ],
 "metadata": {
  "kernelspec": {
   "display_name": "Python 3 (ipykernel)",
   "language": "python",
   "name": "python3"
  },
  "language_info": {
   "codemirror_mode": {
    "name": "ipython",
    "version": 3
   },
   "file_extension": ".py",
   "mimetype": "text/x-python",
   "name": "python",
   "nbconvert_exporter": "python",
   "pygments_lexer": "ipython3",
   "version": "3.10.9"
  },
  "toc": {
   "base_numbering": 1,
   "nav_menu": {},
   "number_sections": false,
   "sideBar": true,
   "skip_h1_title": false,
   "title_cell": "Table of Contents",
   "title_sidebar": "Contents",
   "toc_cell": false,
   "toc_position": {
    "height": "calc(100% - 180px)",
    "left": "10px",
    "top": "150px",
    "width": "164.972px"
   },
   "toc_section_display": true,
   "toc_window_display": true
  },
  "varInspector": {
   "cols": {
    "lenName": 16,
    "lenType": 16,
    "lenVar": 40
   },
   "kernels_config": {
    "python": {
     "delete_cmd_postfix": "",
     "delete_cmd_prefix": "del ",
     "library": "var_list.py",
     "varRefreshCmd": "print(var_dic_list())"
    },
    "r": {
     "delete_cmd_postfix": ") ",
     "delete_cmd_prefix": "rm(",
     "library": "var_list.r",
     "varRefreshCmd": "cat(var_dic_list()) "
    }
   },
   "types_to_exclude": [
    "module",
    "function",
    "builtin_function_or_method",
    "instance",
    "_Feature"
   ],
   "window_display": false
  }
 },
 "nbformat": 4,
 "nbformat_minor": 5
}
